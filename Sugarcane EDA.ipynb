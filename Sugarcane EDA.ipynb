{
 "cells": [
  {
   "cell_type": "code",
   "execution_count": 1,
   "id": "93396385",
   "metadata": {},
   "outputs": [],
   "source": [
    "# Importing the libraries\n",
    "\n",
    "import pandas as pd\n",
    "import seaborn as sns\n",
    "import matplotlib.pyplot as plt"
   ]
  },
  {
   "cell_type": "code",
   "execution_count": 2,
   "id": "68b9a9d4",
   "metadata": {},
   "outputs": [],
   "source": [
    "# Importing the dataset\n",
    "\n",
    "df = pd.read_csv('List of Countries by Sugarcane Production.csv')"
   ]
  },
  {
   "cell_type": "code",
   "execution_count": 3,
   "id": "14cc66f7",
   "metadata": {},
   "outputs": [
    {
     "data": {
      "text/html": [
       "<div>\n",
       "<style scoped>\n",
       "    .dataframe tbody tr th:only-of-type {\n",
       "        vertical-align: middle;\n",
       "    }\n",
       "\n",
       "    .dataframe tbody tr th {\n",
       "        vertical-align: top;\n",
       "    }\n",
       "\n",
       "    .dataframe thead th {\n",
       "        text-align: right;\n",
       "    }\n",
       "</style>\n",
       "<table border=\"1\" class=\"dataframe\">\n",
       "  <thead>\n",
       "    <tr style=\"text-align: right;\">\n",
       "      <th></th>\n",
       "      <th>Unnamed: 0</th>\n",
       "      <th>Country</th>\n",
       "      <th>Continent</th>\n",
       "      <th>Production (Tons)</th>\n",
       "      <th>Production per Person (Kg)</th>\n",
       "      <th>Acreage (Hectare)</th>\n",
       "      <th>Yield (Kg / Hectare)</th>\n",
       "    </tr>\n",
       "  </thead>\n",
       "  <tbody>\n",
       "    <tr>\n",
       "      <th>0</th>\n",
       "      <td>0</td>\n",
       "      <td>Brazil</td>\n",
       "      <td>South America</td>\n",
       "      <td>768.678.382</td>\n",
       "      <td>3.668,531</td>\n",
       "      <td>10.226.205</td>\n",
       "      <td>75.167,5</td>\n",
       "    </tr>\n",
       "    <tr>\n",
       "      <th>1</th>\n",
       "      <td>1</td>\n",
       "      <td>India</td>\n",
       "      <td>Asia</td>\n",
       "      <td>348.448.000</td>\n",
       "      <td>260721</td>\n",
       "      <td>4.950.000</td>\n",
       "      <td>70.393,5</td>\n",
       "    </tr>\n",
       "    <tr>\n",
       "      <th>2</th>\n",
       "      <td>2</td>\n",
       "      <td>China</td>\n",
       "      <td>Asia</td>\n",
       "      <td>123.059.739</td>\n",
       "      <td>88287</td>\n",
       "      <td>1.675.215</td>\n",
       "      <td>73.459,1</td>\n",
       "    </tr>\n",
       "    <tr>\n",
       "      <th>3</th>\n",
       "      <td>3</td>\n",
       "      <td>Thailand</td>\n",
       "      <td>Asia</td>\n",
       "      <td>87.468.496</td>\n",
       "      <td>1.264,303</td>\n",
       "      <td>1.336.575</td>\n",
       "      <td>65.442,2</td>\n",
       "    </tr>\n",
       "    <tr>\n",
       "      <th>4</th>\n",
       "      <td>4</td>\n",
       "      <td>Pakistan</td>\n",
       "      <td>Asia</td>\n",
       "      <td>65.450.704</td>\n",
       "      <td>324219</td>\n",
       "      <td>1.130.820</td>\n",
       "      <td>57.879</td>\n",
       "    </tr>\n",
       "  </tbody>\n",
       "</table>\n",
       "</div>"
      ],
      "text/plain": [
       "   Unnamed: 0   Country      Continent Production (Tons)  \\\n",
       "0           0    Brazil  South America       768.678.382   \n",
       "1           1     India           Asia       348.448.000   \n",
       "2           2     China           Asia       123.059.739   \n",
       "3           3  Thailand           Asia        87.468.496   \n",
       "4           4  Pakistan           Asia        65.450.704   \n",
       "\n",
       "  Production per Person (Kg) Acreage (Hectare) Yield (Kg / Hectare)  \n",
       "0                  3.668,531        10.226.205             75.167,5  \n",
       "1                     260721         4.950.000             70.393,5  \n",
       "2                      88287         1.675.215             73.459,1  \n",
       "3                  1.264,303         1.336.575             65.442,2  \n",
       "4                     324219         1.130.820               57.879  "
      ]
     },
     "execution_count": 3,
     "metadata": {},
     "output_type": "execute_result"
    }
   ],
   "source": [
    "df.head()"
   ]
  },
  {
   "cell_type": "code",
   "execution_count": 4,
   "id": "ac1a1c8a",
   "metadata": {},
   "outputs": [
    {
     "data": {
      "text/plain": [
       "(103, 7)"
      ]
     },
     "execution_count": 4,
     "metadata": {},
     "output_type": "execute_result"
    }
   ],
   "source": [
    "df.shape"
   ]
  },
  {
   "cell_type": "markdown",
   "id": "580b112d",
   "metadata": {},
   "source": [
    "## Data Cleaning"
   ]
  },
  {
   "cell_type": "code",
   "execution_count": 5,
   "id": "843ac832",
   "metadata": {},
   "outputs": [
    {
     "name": "stderr",
     "output_type": "stream",
     "text": [
      "C:\\Users\\userr\\AppData\\Local\\Temp\\ipykernel_16084\\1005688359.py:1: FutureWarning: The default value of regex will change from True to False in a future version. In addition, single character regular expressions will *not* be treated as literal strings when regex=True.\n",
      "  df['Production (Tons)'] = df['Production (Tons)'].str.replace(\".\",\"\")\n",
      "C:\\Users\\userr\\AppData\\Local\\Temp\\ipykernel_16084\\1005688359.py:2: FutureWarning: The default value of regex will change from True to False in a future version. In addition, single character regular expressions will *not* be treated as literal strings when regex=True.\n",
      "  df['Production per Person (Kg)'] = df['Production per Person (Kg)'].str.replace(\".\",\"\")\n",
      "C:\\Users\\userr\\AppData\\Local\\Temp\\ipykernel_16084\\1005688359.py:4: FutureWarning: The default value of regex will change from True to False in a future version. In addition, single character regular expressions will *not* be treated as literal strings when regex=True.\n",
      "  df['Acreage (Hectare)'] = df['Acreage (Hectare)'].str.replace(\".\",\"\")\n",
      "C:\\Users\\userr\\AppData\\Local\\Temp\\ipykernel_16084\\1005688359.py:5: FutureWarning: The default value of regex will change from True to False in a future version. In addition, single character regular expressions will *not* be treated as literal strings when regex=True.\n",
      "  df['Yield (Kg / Hectare)'] = df['Yield (Kg / Hectare)'].str.replace(\".\",\"\")\n"
     ]
    }
   ],
   "source": [
    "df['Production (Tons)'] = df['Production (Tons)'].str.replace(\".\",\"\")\n",
    "df['Production per Person (Kg)'] = df['Production per Person (Kg)'].str.replace(\".\",\"\")\n",
    "df['Production per Person (Kg)'] = df['Production per Person (Kg)'].str.replace(\",\",\".\")\n",
    "df['Acreage (Hectare)'] = df['Acreage (Hectare)'].str.replace(\".\",\"\")\n",
    "df['Yield (Kg / Hectare)'] = df['Yield (Kg / Hectare)'].str.replace(\".\",\"\")\n",
    "df['Yield (Kg / Hectare)'] = df['Yield (Kg / Hectare)'].str.replace(\",\" , \".\")"
   ]
  },
  {
   "cell_type": "code",
   "execution_count": 6,
   "id": "9e4938ca",
   "metadata": {},
   "outputs": [
    {
     "data": {
      "text/html": [
       "<div>\n",
       "<style scoped>\n",
       "    .dataframe tbody tr th:only-of-type {\n",
       "        vertical-align: middle;\n",
       "    }\n",
       "\n",
       "    .dataframe tbody tr th {\n",
       "        vertical-align: top;\n",
       "    }\n",
       "\n",
       "    .dataframe thead th {\n",
       "        text-align: right;\n",
       "    }\n",
       "</style>\n",
       "<table border=\"1\" class=\"dataframe\">\n",
       "  <thead>\n",
       "    <tr style=\"text-align: right;\">\n",
       "      <th></th>\n",
       "      <th>Unnamed: 0</th>\n",
       "      <th>Country</th>\n",
       "      <th>Continent</th>\n",
       "      <th>Production (Tons)</th>\n",
       "      <th>Production per Person (Kg)</th>\n",
       "      <th>Acreage (Hectare)</th>\n",
       "      <th>Yield (Kg / Hectare)</th>\n",
       "    </tr>\n",
       "  </thead>\n",
       "  <tbody>\n",
       "    <tr>\n",
       "      <th>0</th>\n",
       "      <td>0</td>\n",
       "      <td>Brazil</td>\n",
       "      <td>South America</td>\n",
       "      <td>768678382</td>\n",
       "      <td>3668.531</td>\n",
       "      <td>10226205</td>\n",
       "      <td>75167.5</td>\n",
       "    </tr>\n",
       "    <tr>\n",
       "      <th>1</th>\n",
       "      <td>1</td>\n",
       "      <td>India</td>\n",
       "      <td>Asia</td>\n",
       "      <td>348448000</td>\n",
       "      <td>260721</td>\n",
       "      <td>4950000</td>\n",
       "      <td>70393.5</td>\n",
       "    </tr>\n",
       "    <tr>\n",
       "      <th>2</th>\n",
       "      <td>2</td>\n",
       "      <td>China</td>\n",
       "      <td>Asia</td>\n",
       "      <td>123059739</td>\n",
       "      <td>88287</td>\n",
       "      <td>1675215</td>\n",
       "      <td>73459.1</td>\n",
       "    </tr>\n",
       "    <tr>\n",
       "      <th>3</th>\n",
       "      <td>3</td>\n",
       "      <td>Thailand</td>\n",
       "      <td>Asia</td>\n",
       "      <td>87468496</td>\n",
       "      <td>1264.303</td>\n",
       "      <td>1336575</td>\n",
       "      <td>65442.2</td>\n",
       "    </tr>\n",
       "    <tr>\n",
       "      <th>4</th>\n",
       "      <td>4</td>\n",
       "      <td>Pakistan</td>\n",
       "      <td>Asia</td>\n",
       "      <td>65450704</td>\n",
       "      <td>324219</td>\n",
       "      <td>1130820</td>\n",
       "      <td>57879</td>\n",
       "    </tr>\n",
       "  </tbody>\n",
       "</table>\n",
       "</div>"
      ],
      "text/plain": [
       "   Unnamed: 0   Country      Continent Production (Tons)  \\\n",
       "0           0    Brazil  South America         768678382   \n",
       "1           1     India           Asia         348448000   \n",
       "2           2     China           Asia         123059739   \n",
       "3           3  Thailand           Asia          87468496   \n",
       "4           4  Pakistan           Asia          65450704   \n",
       "\n",
       "  Production per Person (Kg) Acreage (Hectare) Yield (Kg / Hectare)  \n",
       "0                   3668.531          10226205              75167.5  \n",
       "1                     260721           4950000              70393.5  \n",
       "2                      88287           1675215              73459.1  \n",
       "3                   1264.303           1336575              65442.2  \n",
       "4                     324219           1130820                57879  "
      ]
     },
     "execution_count": 6,
     "metadata": {},
     "output_type": "execute_result"
    }
   ],
   "source": [
    "df.head()"
   ]
  },
  {
   "cell_type": "code",
   "execution_count": 7,
   "id": "4047d6b0",
   "metadata": {},
   "outputs": [],
   "source": [
    "df.rename(columns= {\"Production (Tons)\" : \"Production(Tons)\"}, inplace= True)\n",
    "df.rename(columns= {\"Production per Person (Kg)\" : \"Production_per_person(kg)\"}, inplace= True)\n",
    "df.rename(columns= {\"Acreage (Hectare)\" : \"Acreage(Hectare)\"}, inplace= True)\n",
    "df.rename(columns= {\"Yield (Kg / Hectare)\" : \"Yield(Kg/Hectare)\"}, inplace= True)"
   ]
  },
  {
   "cell_type": "code",
   "execution_count": 8,
   "id": "58820950",
   "metadata": {},
   "outputs": [
    {
     "data": {
      "text/html": [
       "<div>\n",
       "<style scoped>\n",
       "    .dataframe tbody tr th:only-of-type {\n",
       "        vertical-align: middle;\n",
       "    }\n",
       "\n",
       "    .dataframe tbody tr th {\n",
       "        vertical-align: top;\n",
       "    }\n",
       "\n",
       "    .dataframe thead th {\n",
       "        text-align: right;\n",
       "    }\n",
       "</style>\n",
       "<table border=\"1\" class=\"dataframe\">\n",
       "  <thead>\n",
       "    <tr style=\"text-align: right;\">\n",
       "      <th></th>\n",
       "      <th>Unnamed: 0</th>\n",
       "      <th>Country</th>\n",
       "      <th>Continent</th>\n",
       "      <th>Production(Tons)</th>\n",
       "      <th>Production_per_person(kg)</th>\n",
       "      <th>Acreage(Hectare)</th>\n",
       "      <th>Yield(Kg/Hectare)</th>\n",
       "    </tr>\n",
       "  </thead>\n",
       "  <tbody>\n",
       "    <tr>\n",
       "      <th>0</th>\n",
       "      <td>0</td>\n",
       "      <td>Brazil</td>\n",
       "      <td>South America</td>\n",
       "      <td>768678382</td>\n",
       "      <td>3668.531</td>\n",
       "      <td>10226205</td>\n",
       "      <td>75167.5</td>\n",
       "    </tr>\n",
       "    <tr>\n",
       "      <th>1</th>\n",
       "      <td>1</td>\n",
       "      <td>India</td>\n",
       "      <td>Asia</td>\n",
       "      <td>348448000</td>\n",
       "      <td>260721</td>\n",
       "      <td>4950000</td>\n",
       "      <td>70393.5</td>\n",
       "    </tr>\n",
       "    <tr>\n",
       "      <th>2</th>\n",
       "      <td>2</td>\n",
       "      <td>China</td>\n",
       "      <td>Asia</td>\n",
       "      <td>123059739</td>\n",
       "      <td>88287</td>\n",
       "      <td>1675215</td>\n",
       "      <td>73459.1</td>\n",
       "    </tr>\n",
       "    <tr>\n",
       "      <th>3</th>\n",
       "      <td>3</td>\n",
       "      <td>Thailand</td>\n",
       "      <td>Asia</td>\n",
       "      <td>87468496</td>\n",
       "      <td>1264.303</td>\n",
       "      <td>1336575</td>\n",
       "      <td>65442.2</td>\n",
       "    </tr>\n",
       "    <tr>\n",
       "      <th>4</th>\n",
       "      <td>4</td>\n",
       "      <td>Pakistan</td>\n",
       "      <td>Asia</td>\n",
       "      <td>65450704</td>\n",
       "      <td>324219</td>\n",
       "      <td>1130820</td>\n",
       "      <td>57879</td>\n",
       "    </tr>\n",
       "  </tbody>\n",
       "</table>\n",
       "</div>"
      ],
      "text/plain": [
       "   Unnamed: 0   Country      Continent Production(Tons)  \\\n",
       "0           0    Brazil  South America        768678382   \n",
       "1           1     India           Asia        348448000   \n",
       "2           2     China           Asia        123059739   \n",
       "3           3  Thailand           Asia         87468496   \n",
       "4           4  Pakistan           Asia         65450704   \n",
       "\n",
       "  Production_per_person(kg) Acreage(Hectare) Yield(Kg/Hectare)  \n",
       "0                  3668.531         10226205           75167.5  \n",
       "1                    260721          4950000           70393.5  \n",
       "2                     88287          1675215           73459.1  \n",
       "3                  1264.303          1336575           65442.2  \n",
       "4                    324219          1130820             57879  "
      ]
     },
     "execution_count": 8,
     "metadata": {},
     "output_type": "execute_result"
    }
   ],
   "source": [
    "df.head()"
   ]
  },
  {
   "cell_type": "code",
   "execution_count": 9,
   "id": "f862ff0b",
   "metadata": {},
   "outputs": [
    {
     "data": {
      "text/plain": [
       "Unnamed: 0                   0\n",
       "Country                      0\n",
       "Continent                    0\n",
       "Production(Tons)             0\n",
       "Production_per_person(kg)    0\n",
       "Acreage(Hectare)             1\n",
       "Yield(Kg/Hectare)            1\n",
       "dtype: int64"
      ]
     },
     "execution_count": 9,
     "metadata": {},
     "output_type": "execute_result"
    }
   ],
   "source": [
    "df.isnull().sum()"
   ]
  },
  {
   "cell_type": "code",
   "execution_count": 10,
   "id": "35c6d565",
   "metadata": {},
   "outputs": [
    {
     "data": {
      "text/html": [
       "<div>\n",
       "<style scoped>\n",
       "    .dataframe tbody tr th:only-of-type {\n",
       "        vertical-align: middle;\n",
       "    }\n",
       "\n",
       "    .dataframe tbody tr th {\n",
       "        vertical-align: top;\n",
       "    }\n",
       "\n",
       "    .dataframe thead th {\n",
       "        text-align: right;\n",
       "    }\n",
       "</style>\n",
       "<table border=\"1\" class=\"dataframe\">\n",
       "  <thead>\n",
       "    <tr style=\"text-align: right;\">\n",
       "      <th></th>\n",
       "      <th>Unnamed: 0</th>\n",
       "      <th>Country</th>\n",
       "      <th>Continent</th>\n",
       "      <th>Production(Tons)</th>\n",
       "      <th>Production_per_person(kg)</th>\n",
       "      <th>Acreage(Hectare)</th>\n",
       "      <th>Yield(Kg/Hectare)</th>\n",
       "    </tr>\n",
       "  </thead>\n",
       "  <tbody>\n",
       "    <tr>\n",
       "      <th>99</th>\n",
       "      <td>99</td>\n",
       "      <td>Djibouti</td>\n",
       "      <td>Africa</td>\n",
       "      <td>53</td>\n",
       "      <td>51</td>\n",
       "      <td>NaN</td>\n",
       "      <td>NaN</td>\n",
       "    </tr>\n",
       "  </tbody>\n",
       "</table>\n",
       "</div>"
      ],
      "text/plain": [
       "    Unnamed: 0   Country Continent Production(Tons) Production_per_person(kg)  \\\n",
       "99          99  Djibouti    Africa               53                        51   \n",
       "\n",
       "   Acreage(Hectare) Yield(Kg/Hectare)  \n",
       "99              NaN               NaN  "
      ]
     },
     "execution_count": 10,
     "metadata": {},
     "output_type": "execute_result"
    }
   ],
   "source": [
    "df[df['Acreage(Hectare)'].isnull()]"
   ]
  },
  {
   "cell_type": "code",
   "execution_count": 11,
   "id": "6dd262c7",
   "metadata": {},
   "outputs": [],
   "source": [
    "df = df.dropna().reset_index()"
   ]
  },
  {
   "cell_type": "code",
   "execution_count": 12,
   "id": "9135435d",
   "metadata": {},
   "outputs": [
    {
     "data": {
      "text/html": [
       "<div>\n",
       "<style scoped>\n",
       "    .dataframe tbody tr th:only-of-type {\n",
       "        vertical-align: middle;\n",
       "    }\n",
       "\n",
       "    .dataframe tbody tr th {\n",
       "        vertical-align: top;\n",
       "    }\n",
       "\n",
       "    .dataframe thead th {\n",
       "        text-align: right;\n",
       "    }\n",
       "</style>\n",
       "<table border=\"1\" class=\"dataframe\">\n",
       "  <thead>\n",
       "    <tr style=\"text-align: right;\">\n",
       "      <th></th>\n",
       "      <th>index</th>\n",
       "      <th>Unnamed: 0</th>\n",
       "      <th>Country</th>\n",
       "      <th>Continent</th>\n",
       "      <th>Production(Tons)</th>\n",
       "      <th>Production_per_person(kg)</th>\n",
       "      <th>Acreage(Hectare)</th>\n",
       "      <th>Yield(Kg/Hectare)</th>\n",
       "    </tr>\n",
       "  </thead>\n",
       "  <tbody>\n",
       "    <tr>\n",
       "      <th>0</th>\n",
       "      <td>0</td>\n",
       "      <td>0</td>\n",
       "      <td>Brazil</td>\n",
       "      <td>South America</td>\n",
       "      <td>768678382</td>\n",
       "      <td>3668.531</td>\n",
       "      <td>10226205</td>\n",
       "      <td>75167.5</td>\n",
       "    </tr>\n",
       "    <tr>\n",
       "      <th>1</th>\n",
       "      <td>1</td>\n",
       "      <td>1</td>\n",
       "      <td>India</td>\n",
       "      <td>Asia</td>\n",
       "      <td>348448000</td>\n",
       "      <td>260721</td>\n",
       "      <td>4950000</td>\n",
       "      <td>70393.5</td>\n",
       "    </tr>\n",
       "    <tr>\n",
       "      <th>2</th>\n",
       "      <td>2</td>\n",
       "      <td>2</td>\n",
       "      <td>China</td>\n",
       "      <td>Asia</td>\n",
       "      <td>123059739</td>\n",
       "      <td>88287</td>\n",
       "      <td>1675215</td>\n",
       "      <td>73459.1</td>\n",
       "    </tr>\n",
       "    <tr>\n",
       "      <th>3</th>\n",
       "      <td>3</td>\n",
       "      <td>3</td>\n",
       "      <td>Thailand</td>\n",
       "      <td>Asia</td>\n",
       "      <td>87468496</td>\n",
       "      <td>1264.303</td>\n",
       "      <td>1336575</td>\n",
       "      <td>65442.2</td>\n",
       "    </tr>\n",
       "    <tr>\n",
       "      <th>4</th>\n",
       "      <td>4</td>\n",
       "      <td>4</td>\n",
       "      <td>Pakistan</td>\n",
       "      <td>Asia</td>\n",
       "      <td>65450704</td>\n",
       "      <td>324219</td>\n",
       "      <td>1130820</td>\n",
       "      <td>57879</td>\n",
       "    </tr>\n",
       "  </tbody>\n",
       "</table>\n",
       "</div>"
      ],
      "text/plain": [
       "   index  Unnamed: 0   Country      Continent Production(Tons)  \\\n",
       "0      0           0    Brazil  South America        768678382   \n",
       "1      1           1     India           Asia        348448000   \n",
       "2      2           2     China           Asia        123059739   \n",
       "3      3           3  Thailand           Asia         87468496   \n",
       "4      4           4  Pakistan           Asia         65450704   \n",
       "\n",
       "  Production_per_person(kg) Acreage(Hectare) Yield(Kg/Hectare)  \n",
       "0                  3668.531         10226205           75167.5  \n",
       "1                    260721          4950000           70393.5  \n",
       "2                     88287          1675215           73459.1  \n",
       "3                  1264.303          1336575           65442.2  \n",
       "4                    324219          1130820             57879  "
      ]
     },
     "execution_count": 12,
     "metadata": {},
     "output_type": "execute_result"
    }
   ],
   "source": [
    "df.head()"
   ]
  },
  {
   "cell_type": "code",
   "execution_count": 13,
   "id": "0e5ca777",
   "metadata": {},
   "outputs": [],
   "source": [
    "df.drop(['index', 'Unnamed: 0'], axis = 1, inplace= True)"
   ]
  },
  {
   "cell_type": "code",
   "execution_count": 14,
   "id": "f78b7f74",
   "metadata": {},
   "outputs": [
    {
     "data": {
      "text/html": [
       "<div>\n",
       "<style scoped>\n",
       "    .dataframe tbody tr th:only-of-type {\n",
       "        vertical-align: middle;\n",
       "    }\n",
       "\n",
       "    .dataframe tbody tr th {\n",
       "        vertical-align: top;\n",
       "    }\n",
       "\n",
       "    .dataframe thead th {\n",
       "        text-align: right;\n",
       "    }\n",
       "</style>\n",
       "<table border=\"1\" class=\"dataframe\">\n",
       "  <thead>\n",
       "    <tr style=\"text-align: right;\">\n",
       "      <th></th>\n",
       "      <th>Country</th>\n",
       "      <th>Continent</th>\n",
       "      <th>Production(Tons)</th>\n",
       "      <th>Production_per_person(kg)</th>\n",
       "      <th>Acreage(Hectare)</th>\n",
       "      <th>Yield(Kg/Hectare)</th>\n",
       "    </tr>\n",
       "  </thead>\n",
       "  <tbody>\n",
       "    <tr>\n",
       "      <th>0</th>\n",
       "      <td>Brazil</td>\n",
       "      <td>South America</td>\n",
       "      <td>768678382</td>\n",
       "      <td>3668.531</td>\n",
       "      <td>10226205</td>\n",
       "      <td>75167.5</td>\n",
       "    </tr>\n",
       "    <tr>\n",
       "      <th>1</th>\n",
       "      <td>India</td>\n",
       "      <td>Asia</td>\n",
       "      <td>348448000</td>\n",
       "      <td>260721</td>\n",
       "      <td>4950000</td>\n",
       "      <td>70393.5</td>\n",
       "    </tr>\n",
       "    <tr>\n",
       "      <th>2</th>\n",
       "      <td>China</td>\n",
       "      <td>Asia</td>\n",
       "      <td>123059739</td>\n",
       "      <td>88287</td>\n",
       "      <td>1675215</td>\n",
       "      <td>73459.1</td>\n",
       "    </tr>\n",
       "    <tr>\n",
       "      <th>3</th>\n",
       "      <td>Thailand</td>\n",
       "      <td>Asia</td>\n",
       "      <td>87468496</td>\n",
       "      <td>1264.303</td>\n",
       "      <td>1336575</td>\n",
       "      <td>65442.2</td>\n",
       "    </tr>\n",
       "    <tr>\n",
       "      <th>4</th>\n",
       "      <td>Pakistan</td>\n",
       "      <td>Asia</td>\n",
       "      <td>65450704</td>\n",
       "      <td>324219</td>\n",
       "      <td>1130820</td>\n",
       "      <td>57879</td>\n",
       "    </tr>\n",
       "  </tbody>\n",
       "</table>\n",
       "</div>"
      ],
      "text/plain": [
       "    Country      Continent Production(Tons) Production_per_person(kg)  \\\n",
       "0    Brazil  South America        768678382                  3668.531   \n",
       "1     India           Asia        348448000                    260721   \n",
       "2     China           Asia        123059739                     88287   \n",
       "3  Thailand           Asia         87468496                  1264.303   \n",
       "4  Pakistan           Asia         65450704                    324219   \n",
       "\n",
       "  Acreage(Hectare) Yield(Kg/Hectare)  \n",
       "0         10226205           75167.5  \n",
       "1          4950000           70393.5  \n",
       "2          1675215           73459.1  \n",
       "3          1336575           65442.2  \n",
       "4          1130820             57879  "
      ]
     },
     "execution_count": 14,
     "metadata": {},
     "output_type": "execute_result"
    }
   ],
   "source": [
    "df.head()"
   ]
  },
  {
   "cell_type": "code",
   "execution_count": 15,
   "id": "119006af",
   "metadata": {},
   "outputs": [
    {
     "data": {
      "text/plain": [
       "Country                      object\n",
       "Continent                    object\n",
       "Production(Tons)             object\n",
       "Production_per_person(kg)    object\n",
       "Acreage(Hectare)             object\n",
       "Yield(Kg/Hectare)            object\n",
       "dtype: object"
      ]
     },
     "execution_count": 15,
     "metadata": {},
     "output_type": "execute_result"
    }
   ],
   "source": [
    "df.dtypes"
   ]
  },
  {
   "cell_type": "code",
   "execution_count": 16,
   "id": "fba79cd9",
   "metadata": {},
   "outputs": [],
   "source": [
    "df['Production(Tons)'] = df['Production(Tons)'].astype(float)\n",
    "df['Production_per_person(kg)'] = df['Production_per_person(kg)'].astype(float)\n",
    "df['Acreage(Hectare)'] = df['Acreage(Hectare)'].astype(float)\n",
    "df['Yield(Kg/Hectare)'] = df['Yield(Kg/Hectare)'].astype(float)"
   ]
  },
  {
   "cell_type": "code",
   "execution_count": 17,
   "id": "20be3fa0",
   "metadata": {},
   "outputs": [
    {
     "data": {
      "text/plain": [
       "Country                       object\n",
       "Continent                     object\n",
       "Production(Tons)             float64\n",
       "Production_per_person(kg)    float64\n",
       "Acreage(Hectare)             float64\n",
       "Yield(Kg/Hectare)            float64\n",
       "dtype: object"
      ]
     },
     "execution_count": 17,
     "metadata": {},
     "output_type": "execute_result"
    }
   ],
   "source": [
    "df.dtypes"
   ]
  },
  {
   "cell_type": "code",
   "execution_count": 18,
   "id": "ccdf6cf9",
   "metadata": {},
   "outputs": [
    {
     "data": {
      "text/plain": [
       "Country                      102\n",
       "Continent                      6\n",
       "Production(Tons)             102\n",
       "Production_per_person(kg)    101\n",
       "Acreage(Hectare)             101\n",
       "Yield(Kg/Hectare)            102\n",
       "dtype: int64"
      ]
     },
     "execution_count": 18,
     "metadata": {},
     "output_type": "execute_result"
    }
   ],
   "source": [
    "df.nunique()"
   ]
  },
  {
   "cell_type": "markdown",
   "id": "23fc1d9e",
   "metadata": {},
   "source": [
    "***Now our dataset is clean so we can work on the analysis part of it***"
   ]
  },
  {
   "cell_type": "markdown",
   "id": "e8a1f181",
   "metadata": {},
   "source": [
    "## Univariate Analysis"
   ]
  },
  {
   "cell_type": "code",
   "execution_count": 19,
   "id": "01f9bf83",
   "metadata": {},
   "outputs": [
    {
     "data": {
      "text/html": [
       "<div>\n",
       "<style scoped>\n",
       "    .dataframe tbody tr th:only-of-type {\n",
       "        vertical-align: middle;\n",
       "    }\n",
       "\n",
       "    .dataframe tbody tr th {\n",
       "        vertical-align: top;\n",
       "    }\n",
       "\n",
       "    .dataframe thead th {\n",
       "        text-align: right;\n",
       "    }\n",
       "</style>\n",
       "<table border=\"1\" class=\"dataframe\">\n",
       "  <thead>\n",
       "    <tr style=\"text-align: right;\">\n",
       "      <th></th>\n",
       "      <th>Country</th>\n",
       "      <th>Continent</th>\n",
       "      <th>Production(Tons)</th>\n",
       "      <th>Production_per_person(kg)</th>\n",
       "      <th>Acreage(Hectare)</th>\n",
       "      <th>Yield(Kg/Hectare)</th>\n",
       "    </tr>\n",
       "  </thead>\n",
       "  <tbody>\n",
       "    <tr>\n",
       "      <th>0</th>\n",
       "      <td>Brazil</td>\n",
       "      <td>South America</td>\n",
       "      <td>768678382.0</td>\n",
       "      <td>3668.531</td>\n",
       "      <td>10226205.0</td>\n",
       "      <td>75167.5</td>\n",
       "    </tr>\n",
       "    <tr>\n",
       "      <th>1</th>\n",
       "      <td>India</td>\n",
       "      <td>Asia</td>\n",
       "      <td>348448000.0</td>\n",
       "      <td>260721.000</td>\n",
       "      <td>4950000.0</td>\n",
       "      <td>70393.5</td>\n",
       "    </tr>\n",
       "    <tr>\n",
       "      <th>2</th>\n",
       "      <td>China</td>\n",
       "      <td>Asia</td>\n",
       "      <td>123059739.0</td>\n",
       "      <td>88287.000</td>\n",
       "      <td>1675215.0</td>\n",
       "      <td>73459.1</td>\n",
       "    </tr>\n",
       "    <tr>\n",
       "      <th>3</th>\n",
       "      <td>Thailand</td>\n",
       "      <td>Asia</td>\n",
       "      <td>87468496.0</td>\n",
       "      <td>1264.303</td>\n",
       "      <td>1336575.0</td>\n",
       "      <td>65442.2</td>\n",
       "    </tr>\n",
       "    <tr>\n",
       "      <th>4</th>\n",
       "      <td>Pakistan</td>\n",
       "      <td>Asia</td>\n",
       "      <td>65450704.0</td>\n",
       "      <td>324219.000</td>\n",
       "      <td>1130820.0</td>\n",
       "      <td>57879.0</td>\n",
       "    </tr>\n",
       "  </tbody>\n",
       "</table>\n",
       "</div>"
      ],
      "text/plain": [
       "    Country      Continent  Production(Tons)  Production_per_person(kg)  \\\n",
       "0    Brazil  South America       768678382.0                   3668.531   \n",
       "1     India           Asia       348448000.0                 260721.000   \n",
       "2     China           Asia       123059739.0                  88287.000   \n",
       "3  Thailand           Asia        87468496.0                   1264.303   \n",
       "4  Pakistan           Asia        65450704.0                 324219.000   \n",
       "\n",
       "   Acreage(Hectare)  Yield(Kg/Hectare)  \n",
       "0        10226205.0            75167.5  \n",
       "1         4950000.0            70393.5  \n",
       "2         1675215.0            73459.1  \n",
       "3         1336575.0            65442.2  \n",
       "4         1130820.0            57879.0  "
      ]
     },
     "execution_count": 19,
     "metadata": {},
     "output_type": "execute_result"
    }
   ],
   "source": [
    "df.head()"
   ]
  },
  {
   "cell_type": "code",
   "execution_count": 20,
   "id": "971b0fa5",
   "metadata": {},
   "outputs": [
    {
     "data": {
      "text/plain": [
       "Africa           38\n",
       "Asia             25\n",
       "North America    22\n",
       "South America    11\n",
       "Oceania           4\n",
       "Europe            2\n",
       "Name: Continent, dtype: int64"
      ]
     },
     "execution_count": 20,
     "metadata": {},
     "output_type": "execute_result"
    }
   ],
   "source": [
    "df['Continent'].value_counts()"
   ]
  },
  {
   "cell_type": "code",
   "execution_count": 21,
   "id": "83270883",
   "metadata": {},
   "outputs": [
    {
     "data": {
      "text/plain": [
       "<AxesSubplot: >"
      ]
     },
     "execution_count": 21,
     "metadata": {},
     "output_type": "execute_result"
    },
    {
     "data": {
      "image/png": "[encoded data removed]",
      "text/plain": [
       "<Figure size 640x480 with 1 Axes>"
      ]
     },
     "metadata": {},
     "output_type": "display_data"
    }
   ],
   "source": [
    "df['Continent'].value_counts().plot(kind = 'bar')"
   ]
  },
  {
   "cell_type": "code",
   "execution_count": 22,
   "id": "233e976b",
   "metadata": {},
   "outputs": [
    {
     "name": "stderr",
     "output_type": "stream",
     "text": [
      "C:\\Users\\userr\\AppData\\Local\\Temp\\ipykernel_16084\\3490891609.py:6: UserWarning: \n",
      "\n",
      "`distplot` is a deprecated function and will be removed in seaborn v0.14.0.\n",
      "\n",
      "Please adapt your code to use either `displot` (a figure-level function with\n",
      "similar flexibility) or `histplot` (an axes-level function for histograms).\n",
      "\n",
      "For a guide to updating your code to use the new functions, please see\n",
      "https://gist.github.com/mwaskom/de44147ed2974457ad6372750bbe5751\n",
      "\n",
      "  sns.distplot(df['Production(Tons)'])\n",
      "C:\\Users\\userr\\AppData\\Local\\Temp\\ipykernel_16084\\3490891609.py:9: UserWarning: \n",
      "\n",
      "`distplot` is a deprecated function and will be removed in seaborn v0.14.0.\n",
      "\n",
      "Please adapt your code to use either `displot` (a figure-level function with\n",
      "similar flexibility) or `histplot` (an axes-level function for histograms).\n",
      "\n",
      "For a guide to updating your code to use the new functions, please see\n",
      "https://gist.github.com/mwaskom/de44147ed2974457ad6372750bbe5751\n",
      "\n",
      "  sns.distplot(df['Production_per_person(kg)'])\n",
      "C:\\Users\\userr\\AppData\\Local\\Temp\\ipykernel_16084\\3490891609.py:12: UserWarning: \n",
      "\n",
      "`distplot` is a deprecated function and will be removed in seaborn v0.14.0.\n",
      "\n",
      "Please adapt your code to use either `displot` (a figure-level function with\n",
      "similar flexibility) or `histplot` (an axes-level function for histograms).\n",
      "\n",
      "For a guide to updating your code to use the new functions, please see\n",
      "https://gist.github.com/mwaskom/de44147ed2974457ad6372750bbe5751\n",
      "\n",
      "  sns.distplot(df['Acreage(Hectare)'])\n",
      "C:\\Users\\userr\\AppData\\Local\\Temp\\ipykernel_16084\\3490891609.py:15: UserWarning: \n",
      "\n",
      "`distplot` is a deprecated function and will be removed in seaborn v0.14.0.\n",
      "\n",
      "Please adapt your code to use either `displot` (a figure-level function with\n",
      "similar flexibility) or `histplot` (an axes-level function for histograms).\n",
      "\n",
      "For a guide to updating your code to use the new functions, please see\n",
      "https://gist.github.com/mwaskom/de44147ed2974457ad6372750bbe5751\n",
      "\n",
      "  sns.distplot(df['Yield(Kg/Hectare)'])\n"
     ]
    },
    {
     "data": {
      "text/plain": [
       "<AxesSubplot: xlabel='Yield(Kg/Hectare)', ylabel='Density'>"
      ]
     },
     "execution_count": 22,
     "metadata": {},
     "output_type": "execute_result"
    },
    {
     "data": {
      "image/png": "[encoded data removed]",
      "text/plain": [
       "<Figure size 1000x1000 with 4 Axes>"
      ]
     },
     "metadata": {},
     "output_type": "display_data"
    }
   ],
   "source": [
    "# Plotting the distribution of the numerical columns \n",
    "\n",
    "plt.figure(figsize= (10,10))\n",
    "\n",
    "plt.subplot(2,2,1)\n",
    "sns.distplot(df['Production(Tons)'])\n",
    "\n",
    "plt.subplot(2,2,2)\n",
    "sns.distplot(df['Production_per_person(kg)'])\n",
    "\n",
    "plt.subplot(2,2,3)\n",
    "sns.distplot(df['Acreage(Hectare)'])\n",
    "\n",
    "plt.subplot(2,2,4)\n",
    "sns.distplot(df['Yield(Kg/Hectare)'])"
   ]
  },
  {
   "cell_type": "code",
   "execution_count": 23,
   "id": "a983d223",
   "metadata": {},
   "outputs": [
    {
     "data": {
      "text/plain": [
       "Text(0.5, 1.0, 'Yield(kg/Hectare)')"
      ]
     },
     "execution_count": 23,
     "metadata": {},
     "output_type": "execute_result"
    },
    {
     "data": {
      "image/png": "[encoded data removed]",
      "text/plain": [
       "<Figure size 800x800 with 4 Axes>"
      ]
     },
     "metadata": {},
     "output_type": "display_data"
    }
   ],
   "source": [
    "# Now in order to know the outliers we need to plot the boxplot in this case \n",
    "\n",
    "plt.figure(figsize=(8,8))\n",
    "\n",
    "plt.subplot(2,2,1)\n",
    "sns.boxplot(df['Production(Tons)'])\n",
    "plt.title('Production(Tons)')\n",
    "\n",
    "plt.subplot(2,2,2)\n",
    "sns.boxplot(df['Production_per_person(kg)'])\n",
    "plt.title('Production_per_person(kg)')\n",
    "\n",
    "plt.subplot(2,2,3)\n",
    "sns.boxplot(df['Acreage(Hectare)'])\n",
    "plt.title('Acreage(Hectare)')\n",
    "\n",
    "plt.subplot(2,2,4)\n",
    "sns.boxplot(df['Yield(Kg/Hectare)'])\n",
    "plt.title('Yield(kg/Hectare)')"
   ]
  },
  {
   "cell_type": "code",
   "execution_count": 24,
   "id": "1d5be84b",
   "metadata": {},
   "outputs": [
    {
     "data": {
      "text/html": [
       "<div>\n",
       "<style scoped>\n",
       "    .dataframe tbody tr th:only-of-type {\n",
       "        vertical-align: middle;\n",
       "    }\n",
       "\n",
       "    .dataframe tbody tr th {\n",
       "        vertical-align: top;\n",
       "    }\n",
       "\n",
       "    .dataframe thead th {\n",
       "        text-align: right;\n",
       "    }\n",
       "</style>\n",
       "<table border=\"1\" class=\"dataframe\">\n",
       "  <thead>\n",
       "    <tr style=\"text-align: right;\">\n",
       "      <th></th>\n",
       "      <th>Production(Tons)</th>\n",
       "      <th>Production_per_person(kg)</th>\n",
       "      <th>Acreage(Hectare)</th>\n",
       "      <th>Yield(Kg/Hectare)</th>\n",
       "    </tr>\n",
       "  </thead>\n",
       "  <tbody>\n",
       "    <tr>\n",
       "      <th>count</th>\n",
       "      <td>1.020000e+02</td>\n",
       "      <td>102.000000</td>\n",
       "      <td>1.020000e+02</td>\n",
       "      <td>102.000000</td>\n",
       "    </tr>\n",
       "    <tr>\n",
       "      <th>mean</th>\n",
       "      <td>1.850372e+07</td>\n",
       "      <td>112952.435755</td>\n",
       "      <td>2.498981e+05</td>\n",
       "      <td>52628.078431</td>\n",
       "    </tr>\n",
       "    <tr>\n",
       "      <th>std</th>\n",
       "      <td>8.419149e+07</td>\n",
       "      <td>176651.341929</td>\n",
       "      <td>1.137003e+06</td>\n",
       "      <td>30504.676683</td>\n",
       "    </tr>\n",
       "    <tr>\n",
       "      <th>min</th>\n",
       "      <td>1.000000e+00</td>\n",
       "      <td>0.000000</td>\n",
       "      <td>0.000000e+00</td>\n",
       "      <td>10.000000</td>\n",
       "    </tr>\n",
       "    <tr>\n",
       "      <th>25%</th>\n",
       "      <td>6.251875e+04</td>\n",
       "      <td>3671.910000</td>\n",
       "      <td>1.104000e+03</td>\n",
       "      <td>29072.025000</td>\n",
       "    </tr>\n",
       "    <tr>\n",
       "      <th>50%</th>\n",
       "      <td>1.440044e+06</td>\n",
       "      <td>25572.500000</td>\n",
       "      <td>1.655800e+04</td>\n",
       "      <td>54108.950000</td>\n",
       "    </tr>\n",
       "    <tr>\n",
       "      <th>75%</th>\n",
       "      <td>6.426824e+06</td>\n",
       "      <td>146384.750000</td>\n",
       "      <td>8.047400e+04</td>\n",
       "      <td>73282.700000</td>\n",
       "    </tr>\n",
       "    <tr>\n",
       "      <th>max</th>\n",
       "      <td>7.686784e+08</td>\n",
       "      <td>951087.000000</td>\n",
       "      <td>1.022620e+07</td>\n",
       "      <td>129049.300000</td>\n",
       "    </tr>\n",
       "  </tbody>\n",
       "</table>\n",
       "</div>"
      ],
      "text/plain": [
       "       Production(Tons)  Production_per_person(kg)  Acreage(Hectare)  \\\n",
       "count      1.020000e+02                 102.000000      1.020000e+02   \n",
       "mean       1.850372e+07              112952.435755      2.498981e+05   \n",
       "std        8.419149e+07              176651.341929      1.137003e+06   \n",
       "min        1.000000e+00                   0.000000      0.000000e+00   \n",
       "25%        6.251875e+04                3671.910000      1.104000e+03   \n",
       "50%        1.440044e+06               25572.500000      1.655800e+04   \n",
       "75%        6.426824e+06              146384.750000      8.047400e+04   \n",
       "max        7.686784e+08              951087.000000      1.022620e+07   \n",
       "\n",
       "       Yield(Kg/Hectare)  \n",
       "count         102.000000  \n",
       "mean        52628.078431  \n",
       "std         30504.676683  \n",
       "min            10.000000  \n",
       "25%         29072.025000  \n",
       "50%         54108.950000  \n",
       "75%         73282.700000  \n",
       "max        129049.300000  "
      ]
     },
     "execution_count": 24,
     "metadata": {},
     "output_type": "execute_result"
    }
   ],
   "source": [
    "df.describe() # So we can see that we have outliers in first three numericals columns "
   ]
  },
  {
   "cell_type": "markdown",
   "id": "cf586674",
   "metadata": {},
   "source": [
    "## Bivariate Analysis"
   ]
  },
  {
   "cell_type": "code",
   "execution_count": 25,
   "id": "3ffd8c82",
   "metadata": {},
   "outputs": [
    {
     "data": {
      "text/html": [
       "<div>\n",
       "<style scoped>\n",
       "    .dataframe tbody tr th:only-of-type {\n",
       "        vertical-align: middle;\n",
       "    }\n",
       "\n",
       "    .dataframe tbody tr th {\n",
       "        vertical-align: top;\n",
       "    }\n",
       "\n",
       "    .dataframe thead th {\n",
       "        text-align: right;\n",
       "    }\n",
       "</style>\n",
       "<table border=\"1\" class=\"dataframe\">\n",
       "  <thead>\n",
       "    <tr style=\"text-align: right;\">\n",
       "      <th></th>\n",
       "      <th>Country</th>\n",
       "      <th>Continent</th>\n",
       "      <th>Production(Tons)</th>\n",
       "      <th>Production_per_person(kg)</th>\n",
       "      <th>Acreage(Hectare)</th>\n",
       "      <th>Yield(Kg/Hectare)</th>\n",
       "    </tr>\n",
       "  </thead>\n",
       "  <tbody>\n",
       "    <tr>\n",
       "      <th>0</th>\n",
       "      <td>Brazil</td>\n",
       "      <td>South America</td>\n",
       "      <td>768678382.0</td>\n",
       "      <td>3668.531</td>\n",
       "      <td>10226205.0</td>\n",
       "      <td>75167.5</td>\n",
       "    </tr>\n",
       "    <tr>\n",
       "      <th>1</th>\n",
       "      <td>India</td>\n",
       "      <td>Asia</td>\n",
       "      <td>348448000.0</td>\n",
       "      <td>260721.000</td>\n",
       "      <td>4950000.0</td>\n",
       "      <td>70393.5</td>\n",
       "    </tr>\n",
       "    <tr>\n",
       "      <th>2</th>\n",
       "      <td>China</td>\n",
       "      <td>Asia</td>\n",
       "      <td>123059739.0</td>\n",
       "      <td>88287.000</td>\n",
       "      <td>1675215.0</td>\n",
       "      <td>73459.1</td>\n",
       "    </tr>\n",
       "    <tr>\n",
       "      <th>3</th>\n",
       "      <td>Thailand</td>\n",
       "      <td>Asia</td>\n",
       "      <td>87468496.0</td>\n",
       "      <td>1264.303</td>\n",
       "      <td>1336575.0</td>\n",
       "      <td>65442.2</td>\n",
       "    </tr>\n",
       "    <tr>\n",
       "      <th>4</th>\n",
       "      <td>Pakistan</td>\n",
       "      <td>Asia</td>\n",
       "      <td>65450704.0</td>\n",
       "      <td>324219.000</td>\n",
       "      <td>1130820.0</td>\n",
       "      <td>57879.0</td>\n",
       "    </tr>\n",
       "  </tbody>\n",
       "</table>\n",
       "</div>"
      ],
      "text/plain": [
       "    Country      Continent  Production(Tons)  Production_per_person(kg)  \\\n",
       "0    Brazil  South America       768678382.0                   3668.531   \n",
       "1     India           Asia       348448000.0                 260721.000   \n",
       "2     China           Asia       123059739.0                  88287.000   \n",
       "3  Thailand           Asia        87468496.0                   1264.303   \n",
       "4  Pakistan           Asia        65450704.0                 324219.000   \n",
       "\n",
       "   Acreage(Hectare)  Yield(Kg/Hectare)  \n",
       "0        10226205.0            75167.5  \n",
       "1         4950000.0            70393.5  \n",
       "2         1675215.0            73459.1  \n",
       "3         1336575.0            65442.2  \n",
       "4         1130820.0            57879.0  "
      ]
     },
     "execution_count": 25,
     "metadata": {},
     "output_type": "execute_result"
    }
   ],
   "source": [
    "df.head()"
   ]
  },
  {
   "cell_type": "markdown",
   "id": "dd6af82a",
   "metadata": {},
   "source": [
    "**Which country produces the maximum sugarcane ?**"
   ]
  },
  {
   "cell_type": "code",
   "execution_count": 26,
   "id": "221252e8",
   "metadata": {},
   "outputs": [],
   "source": [
    "df_new = df[['Country', 'Production(Tons)']]"
   ]
  },
  {
   "cell_type": "code",
   "execution_count": 27,
   "id": "821b7eb9",
   "metadata": {},
   "outputs": [
    {
     "data": {
      "text/html": [
       "<div>\n",
       "<style scoped>\n",
       "    .dataframe tbody tr th:only-of-type {\n",
       "        vertical-align: middle;\n",
       "    }\n",
       "\n",
       "    .dataframe tbody tr th {\n",
       "        vertical-align: top;\n",
       "    }\n",
       "\n",
       "    .dataframe thead th {\n",
       "        text-align: right;\n",
       "    }\n",
       "</style>\n",
       "<table border=\"1\" class=\"dataframe\">\n",
       "  <thead>\n",
       "    <tr style=\"text-align: right;\">\n",
       "      <th></th>\n",
       "      <th>Country</th>\n",
       "      <th>Production(Tons)</th>\n",
       "    </tr>\n",
       "  </thead>\n",
       "  <tbody>\n",
       "    <tr>\n",
       "      <th>0</th>\n",
       "      <td>Brazil</td>\n",
       "      <td>768678382.0</td>\n",
       "    </tr>\n",
       "    <tr>\n",
       "      <th>1</th>\n",
       "      <td>India</td>\n",
       "      <td>348448000.0</td>\n",
       "    </tr>\n",
       "    <tr>\n",
       "      <th>2</th>\n",
       "      <td>China</td>\n",
       "      <td>123059739.0</td>\n",
       "    </tr>\n",
       "    <tr>\n",
       "      <th>3</th>\n",
       "      <td>Thailand</td>\n",
       "      <td>87468496.0</td>\n",
       "    </tr>\n",
       "    <tr>\n",
       "      <th>4</th>\n",
       "      <td>Pakistan</td>\n",
       "      <td>65450704.0</td>\n",
       "    </tr>\n",
       "    <tr>\n",
       "      <th>...</th>\n",
       "      <td>...</td>\n",
       "      <td>...</td>\n",
       "    </tr>\n",
       "    <tr>\n",
       "      <th>97</th>\n",
       "      <td>Spain</td>\n",
       "      <td>394.0</td>\n",
       "    </tr>\n",
       "    <tr>\n",
       "      <th>98</th>\n",
       "      <td>Lebanon</td>\n",
       "      <td>97.0</td>\n",
       "    </tr>\n",
       "    <tr>\n",
       "      <th>99</th>\n",
       "      <td>Singapore</td>\n",
       "      <td>50.0</td>\n",
       "    </tr>\n",
       "    <tr>\n",
       "      <th>100</th>\n",
       "      <td>Samoa</td>\n",
       "      <td>12.0</td>\n",
       "    </tr>\n",
       "    <tr>\n",
       "      <th>101</th>\n",
       "      <td>Syria</td>\n",
       "      <td>1.0</td>\n",
       "    </tr>\n",
       "  </tbody>\n",
       "</table>\n",
       "<p>102 rows × 2 columns</p>\n",
       "</div>"
      ],
      "text/plain": [
       "       Country  Production(Tons)\n",
       "0       Brazil       768678382.0\n",
       "1        India       348448000.0\n",
       "2        China       123059739.0\n",
       "3     Thailand        87468496.0\n",
       "4     Pakistan        65450704.0\n",
       "..         ...               ...\n",
       "97       Spain             394.0\n",
       "98     Lebanon              97.0\n",
       "99   Singapore              50.0\n",
       "100      Samoa              12.0\n",
       "101      Syria               1.0\n",
       "\n",
       "[102 rows x 2 columns]"
      ]
     },
     "execution_count": 27,
     "metadata": {},
     "output_type": "execute_result"
    }
   ],
   "source": [
    "df_new"
   ]
  },
  {
   "cell_type": "code",
   "execution_count": 28,
   "id": "de613820",
   "metadata": {},
   "outputs": [
    {
     "name": "stderr",
     "output_type": "stream",
     "text": [
      "C:\\Users\\userr\\AppData\\Local\\Temp\\ipykernel_16084\\4091018417.py:1: SettingWithCopyWarning: \n",
      "A value is trying to be set on a copy of a slice from a DataFrame.\n",
      "Try using .loc[row_indexer,col_indexer] = value instead\n",
      "\n",
      "See the caveats in the documentation: https://pandas.pydata.org/pandas-docs/stable/user_guide/indexing.html#returning-a-view-versus-a-copy\n",
      "  df_new['Production(Tons)_percent'] = df_new['Production(Tons)'] * 100 / df_new['Production(Tons)'].sum()\n"
     ]
    }
   ],
   "source": [
    "df_new['Production(Tons)_percent'] = df_new['Production(Tons)'] * 100 / df_new['Production(Tons)'].sum()"
   ]
  },
  {
   "cell_type": "code",
   "execution_count": 29,
   "id": "97bfe90a",
   "metadata": {},
   "outputs": [
    {
     "data": {
      "text/html": [
       "<div>\n",
       "<style scoped>\n",
       "    .dataframe tbody tr th:only-of-type {\n",
       "        vertical-align: middle;\n",
       "    }\n",
       "\n",
       "    .dataframe tbody tr th {\n",
       "        vertical-align: top;\n",
       "    }\n",
       "\n",
       "    .dataframe thead th {\n",
       "        text-align: right;\n",
       "    }\n",
       "</style>\n",
       "<table border=\"1\" class=\"dataframe\">\n",
       "  <thead>\n",
       "    <tr style=\"text-align: right;\">\n",
       "      <th></th>\n",
       "      <th>Country</th>\n",
       "      <th>Production(Tons)</th>\n",
       "      <th>Production(Tons)_percent</th>\n",
       "    </tr>\n",
       "  </thead>\n",
       "  <tbody>\n",
       "    <tr>\n",
       "      <th>0</th>\n",
       "      <td>Brazil</td>\n",
       "      <td>768678382.0</td>\n",
       "      <td>4.072729e+01</td>\n",
       "    </tr>\n",
       "    <tr>\n",
       "      <th>1</th>\n",
       "      <td>India</td>\n",
       "      <td>348448000.0</td>\n",
       "      <td>1.846200e+01</td>\n",
       "    </tr>\n",
       "    <tr>\n",
       "      <th>2</th>\n",
       "      <td>China</td>\n",
       "      <td>123059739.0</td>\n",
       "      <td>6.520138e+00</td>\n",
       "    </tr>\n",
       "    <tr>\n",
       "      <th>3</th>\n",
       "      <td>Thailand</td>\n",
       "      <td>87468496.0</td>\n",
       "      <td>4.634389e+00</td>\n",
       "    </tr>\n",
       "    <tr>\n",
       "      <th>4</th>\n",
       "      <td>Pakistan</td>\n",
       "      <td>65450704.0</td>\n",
       "      <td>3.467809e+00</td>\n",
       "    </tr>\n",
       "    <tr>\n",
       "      <th>...</th>\n",
       "      <td>...</td>\n",
       "      <td>...</td>\n",
       "      <td>...</td>\n",
       "    </tr>\n",
       "    <tr>\n",
       "      <th>97</th>\n",
       "      <td>Spain</td>\n",
       "      <td>394.0</td>\n",
       "      <td>2.087551e-05</td>\n",
       "    </tr>\n",
       "    <tr>\n",
       "      <th>98</th>\n",
       "      <td>Lebanon</td>\n",
       "      <td>97.0</td>\n",
       "      <td>5.139401e-06</td>\n",
       "    </tr>\n",
       "    <tr>\n",
       "      <th>99</th>\n",
       "      <td>Singapore</td>\n",
       "      <td>50.0</td>\n",
       "      <td>2.649176e-06</td>\n",
       "    </tr>\n",
       "    <tr>\n",
       "      <th>100</th>\n",
       "      <td>Samoa</td>\n",
       "      <td>12.0</td>\n",
       "      <td>6.358022e-07</td>\n",
       "    </tr>\n",
       "    <tr>\n",
       "      <th>101</th>\n",
       "      <td>Syria</td>\n",
       "      <td>1.0</td>\n",
       "      <td>5.298352e-08</td>\n",
       "    </tr>\n",
       "  </tbody>\n",
       "</table>\n",
       "<p>102 rows × 3 columns</p>\n",
       "</div>"
      ],
      "text/plain": [
       "       Country  Production(Tons)  Production(Tons)_percent\n",
       "0       Brazil       768678382.0              4.072729e+01\n",
       "1        India       348448000.0              1.846200e+01\n",
       "2        China       123059739.0              6.520138e+00\n",
       "3     Thailand        87468496.0              4.634389e+00\n",
       "4     Pakistan        65450704.0              3.467809e+00\n",
       "..         ...               ...                       ...\n",
       "97       Spain             394.0              2.087551e-05\n",
       "98     Lebanon              97.0              5.139401e-06\n",
       "99   Singapore              50.0              2.649176e-06\n",
       "100      Samoa              12.0              6.358022e-07\n",
       "101      Syria               1.0              5.298352e-08\n",
       "\n",
       "[102 rows x 3 columns]"
      ]
     },
     "execution_count": 29,
     "metadata": {},
     "output_type": "execute_result"
    }
   ],
   "source": [
    "df_new"
   ]
  },
  {
   "cell_type": "code",
   "execution_count": 30,
   "id": "260c9c86",
   "metadata": {},
   "outputs": [
    {
     "data": {
      "text/plain": [
       "<AxesSubplot: ylabel='Production(Tons)_percent'>"
      ]
     },
     "execution_count": 30,
     "metadata": {},
     "output_type": "execute_result"
    },
    {
     "data": {
      "image/png": "[encoded data removed]",
      "text/plain": [
       "<Figure size 640x480 with 1 Axes>"
      ]
     },
     "metadata": {},
     "output_type": "display_data"
    }
   ],
   "source": [
    "df_new['Production(Tons)_percent'].plot(kind = 'pie', autopct = '%.2f')"
   ]
  },
  {
   "cell_type": "code",
   "execution_count": 31,
   "id": "1b9dbc88",
   "metadata": {},
   "outputs": [
    {
     "data": {
      "text/plain": [
       "<AxesSubplot: >"
      ]
     },
     "execution_count": 31,
     "metadata": {},
     "output_type": "execute_result"
    },
    {
     "data": {
      "image/png": "[encoded data removed]",
      "text/plain": [
       "<Figure size 640x480 with 1 Axes>"
      ]
     },
     "metadata": {},
     "output_type": "display_data"
    }
   ],
   "source": [
    "df_new['Production(Tons)'].head(10).plot(kind = 'bar')"
   ]
  },
  {
   "cell_type": "code",
   "execution_count": 34,
   "id": "1aa63c14",
   "metadata": {},
   "outputs": [
    {
     "data": {
      "image/png": "[encoded data removed]",
      "text/plain": [
       "<Figure size 640x480 with 1 Axes>"
      ]
     },
     "metadata": {},
     "output_type": "display_data"
    }
   ],
   "source": [
    "# We can also plot the same graph with the help of the seaborn linbrary \n",
    "\n",
    "ax = sns.barplot(data = df.head(10), x = 'Country', y = 'Production(Tons)')\n",
    "ax.set_xticklabels(ax.get_xticklabels(), rotation = 90)\n",
    "plt.show()"
   ]
  },
  {
   "cell_type": "markdown",
   "id": "6bad1db9",
   "metadata": {},
   "source": [
    "### Which country has highest land?"
   ]
  },
  {
   "cell_type": "code",
   "execution_count": 35,
   "id": "8c49a169",
   "metadata": {},
   "outputs": [
    {
     "data": {
      "text/html": [
       "<div>\n",
       "<style scoped>\n",
       "    .dataframe tbody tr th:only-of-type {\n",
       "        vertical-align: middle;\n",
       "    }\n",
       "\n",
       "    .dataframe tbody tr th {\n",
       "        vertical-align: top;\n",
       "    }\n",
       "\n",
       "    .dataframe thead th {\n",
       "        text-align: right;\n",
       "    }\n",
       "</style>\n",
       "<table border=\"1\" class=\"dataframe\">\n",
       "  <thead>\n",
       "    <tr style=\"text-align: right;\">\n",
       "      <th></th>\n",
       "      <th>Country</th>\n",
       "      <th>Continent</th>\n",
       "      <th>Production(Tons)</th>\n",
       "      <th>Production_per_person(kg)</th>\n",
       "      <th>Acreage(Hectare)</th>\n",
       "      <th>Yield(Kg/Hectare)</th>\n",
       "    </tr>\n",
       "  </thead>\n",
       "  <tbody>\n",
       "    <tr>\n",
       "      <th>0</th>\n",
       "      <td>Brazil</td>\n",
       "      <td>South America</td>\n",
       "      <td>768678382.0</td>\n",
       "      <td>3668.531</td>\n",
       "      <td>10226205.0</td>\n",
       "      <td>75167.5</td>\n",
       "    </tr>\n",
       "    <tr>\n",
       "      <th>1</th>\n",
       "      <td>India</td>\n",
       "      <td>Asia</td>\n",
       "      <td>348448000.0</td>\n",
       "      <td>260721.000</td>\n",
       "      <td>4950000.0</td>\n",
       "      <td>70393.5</td>\n",
       "    </tr>\n",
       "    <tr>\n",
       "      <th>2</th>\n",
       "      <td>China</td>\n",
       "      <td>Asia</td>\n",
       "      <td>123059739.0</td>\n",
       "      <td>88287.000</td>\n",
       "      <td>1675215.0</td>\n",
       "      <td>73459.1</td>\n",
       "    </tr>\n",
       "    <tr>\n",
       "      <th>3</th>\n",
       "      <td>Thailand</td>\n",
       "      <td>Asia</td>\n",
       "      <td>87468496.0</td>\n",
       "      <td>1264.303</td>\n",
       "      <td>1336575.0</td>\n",
       "      <td>65442.2</td>\n",
       "    </tr>\n",
       "    <tr>\n",
       "      <th>4</th>\n",
       "      <td>Pakistan</td>\n",
       "      <td>Asia</td>\n",
       "      <td>65450704.0</td>\n",
       "      <td>324219.000</td>\n",
       "      <td>1130820.0</td>\n",
       "      <td>57879.0</td>\n",
       "    </tr>\n",
       "  </tbody>\n",
       "</table>\n",
       "</div>"
      ],
      "text/plain": [
       "    Country      Continent  Production(Tons)  Production_per_person(kg)  \\\n",
       "0    Brazil  South America       768678382.0                   3668.531   \n",
       "1     India           Asia       348448000.0                 260721.000   \n",
       "2     China           Asia       123059739.0                  88287.000   \n",
       "3  Thailand           Asia        87468496.0                   1264.303   \n",
       "4  Pakistan           Asia        65450704.0                 324219.000   \n",
       "\n",
       "   Acreage(Hectare)  Yield(Kg/Hectare)  \n",
       "0        10226205.0            75167.5  \n",
       "1         4950000.0            70393.5  \n",
       "2         1675215.0            73459.1  \n",
       "3         1336575.0            65442.2  \n",
       "4         1130820.0            57879.0  "
      ]
     },
     "execution_count": 35,
     "metadata": {},
     "output_type": "execute_result"
    }
   ],
   "source": [
    "df.head()"
   ]
  },
  {
   "cell_type": "code",
   "execution_count": 39,
   "id": "919e2ad1",
   "metadata": {},
   "outputs": [
    {
     "data": {
      "image/png": "[encoded data removed]",
      "text/plain": [
       "<Figure size 640x480 with 1 Axes>"
      ]
     },
     "metadata": {},
     "output_type": "display_data"
    }
   ],
   "source": [
    "# We will plot the graph for the country and the Acreage columns\n",
    "\n",
    "df_acr = df.sort_values('Acreage(Hectare)', ascending= False)\n",
    "ax = sns.barplot(data = df_acr.head(10), x = 'Country', y = 'Acreage(Hectare)')\n",
    "ax.set_xticklabels(ax.get_xticklabels(), rotation = 90)\n",
    "plt.show()\n"
   ]
  },
  {
   "cell_type": "code",
   "execution_count": 40,
   "id": "3218b680",
   "metadata": {},
   "outputs": [
    {
     "data": {
      "text/html": [
       "<div>\n",
       "<style scoped>\n",
       "    .dataframe tbody tr th:only-of-type {\n",
       "        vertical-align: middle;\n",
       "    }\n",
       "\n",
       "    .dataframe tbody tr th {\n",
       "        vertical-align: top;\n",
       "    }\n",
       "\n",
       "    .dataframe thead th {\n",
       "        text-align: right;\n",
       "    }\n",
       "</style>\n",
       "<table border=\"1\" class=\"dataframe\">\n",
       "  <thead>\n",
       "    <tr style=\"text-align: right;\">\n",
       "      <th></th>\n",
       "      <th>Country</th>\n",
       "      <th>Continent</th>\n",
       "      <th>Production(Tons)</th>\n",
       "      <th>Production_per_person(kg)</th>\n",
       "      <th>Acreage(Hectare)</th>\n",
       "      <th>Yield(Kg/Hectare)</th>\n",
       "    </tr>\n",
       "  </thead>\n",
       "  <tbody>\n",
       "    <tr>\n",
       "      <th>0</th>\n",
       "      <td>Brazil</td>\n",
       "      <td>South America</td>\n",
       "      <td>768678382.0</td>\n",
       "      <td>3668.531</td>\n",
       "      <td>10226205.0</td>\n",
       "      <td>75167.5</td>\n",
       "    </tr>\n",
       "    <tr>\n",
       "      <th>1</th>\n",
       "      <td>India</td>\n",
       "      <td>Asia</td>\n",
       "      <td>348448000.0</td>\n",
       "      <td>260721.000</td>\n",
       "      <td>4950000.0</td>\n",
       "      <td>70393.5</td>\n",
       "    </tr>\n",
       "    <tr>\n",
       "      <th>2</th>\n",
       "      <td>China</td>\n",
       "      <td>Asia</td>\n",
       "      <td>123059739.0</td>\n",
       "      <td>88287.000</td>\n",
       "      <td>1675215.0</td>\n",
       "      <td>73459.1</td>\n",
       "    </tr>\n",
       "    <tr>\n",
       "      <th>3</th>\n",
       "      <td>Thailand</td>\n",
       "      <td>Asia</td>\n",
       "      <td>87468496.0</td>\n",
       "      <td>1264.303</td>\n",
       "      <td>1336575.0</td>\n",
       "      <td>65442.2</td>\n",
       "    </tr>\n",
       "    <tr>\n",
       "      <th>4</th>\n",
       "      <td>Pakistan</td>\n",
       "      <td>Asia</td>\n",
       "      <td>65450704.0</td>\n",
       "      <td>324219.000</td>\n",
       "      <td>1130820.0</td>\n",
       "      <td>57879.0</td>\n",
       "    </tr>\n",
       "  </tbody>\n",
       "</table>\n",
       "</div>"
      ],
      "text/plain": [
       "    Country      Continent  Production(Tons)  Production_per_person(kg)  \\\n",
       "0    Brazil  South America       768678382.0                   3668.531   \n",
       "1     India           Asia       348448000.0                 260721.000   \n",
       "2     China           Asia       123059739.0                  88287.000   \n",
       "3  Thailand           Asia        87468496.0                   1264.303   \n",
       "4  Pakistan           Asia        65450704.0                 324219.000   \n",
       "\n",
       "   Acreage(Hectare)  Yield(Kg/Hectare)  \n",
       "0        10226205.0            75167.5  \n",
       "1         4950000.0            70393.5  \n",
       "2         1675215.0            73459.1  \n",
       "3         1336575.0            65442.2  \n",
       "4         1130820.0            57879.0  "
      ]
     },
     "execution_count": 40,
     "metadata": {},
     "output_type": "execute_result"
    }
   ],
   "source": [
    "df.head()"
   ]
  },
  {
   "cell_type": "markdown",
   "id": "4b6d44a0",
   "metadata": {},
   "source": [
    "### Which country has the highest yield per hectare ? "
   ]
  },
  {
   "cell_type": "code",
   "execution_count": 42,
   "id": "75f7dbc0",
   "metadata": {},
   "outputs": [
    {
     "data": {
      "image/png": "[encoded data removed]",
      "text/plain": [
       "<Figure size 640x480 with 1 Axes>"
      ]
     },
     "metadata": {},
     "output_type": "display_data"
    }
   ],
   "source": [
    "df_yield = df.sort_values('Yield(Kg/Hectare)', ascending= False)\n",
    "\n",
    "ax = sns.barplot(data = df_yield.head(10), x = 'Country', y = 'Yield(Kg/Hectare)')\n",
    "ax.set_xticklabels(ax.get_xticklabels(), rotation = 90)\n",
    "plt.show()"
   ]
  },
  {
   "cell_type": "markdown",
   "id": "bdc3cd93",
   "metadata": {},
   "source": [
    "### Which country has the highest production ? "
   ]
  },
  {
   "cell_type": "code",
   "execution_count": 43,
   "id": "788ffb44",
   "metadata": {},
   "outputs": [
    {
     "data": {
      "text/html": [
       "<div>\n",
       "<style scoped>\n",
       "    .dataframe tbody tr th:only-of-type {\n",
       "        vertical-align: middle;\n",
       "    }\n",
       "\n",
       "    .dataframe tbody tr th {\n",
       "        vertical-align: top;\n",
       "    }\n",
       "\n",
       "    .dataframe thead th {\n",
       "        text-align: right;\n",
       "    }\n",
       "</style>\n",
       "<table border=\"1\" class=\"dataframe\">\n",
       "  <thead>\n",
       "    <tr style=\"text-align: right;\">\n",
       "      <th></th>\n",
       "      <th>Country</th>\n",
       "      <th>Continent</th>\n",
       "      <th>Production(Tons)</th>\n",
       "      <th>Production_per_person(kg)</th>\n",
       "      <th>Acreage(Hectare)</th>\n",
       "      <th>Yield(Kg/Hectare)</th>\n",
       "    </tr>\n",
       "  </thead>\n",
       "  <tbody>\n",
       "    <tr>\n",
       "      <th>0</th>\n",
       "      <td>Brazil</td>\n",
       "      <td>South America</td>\n",
       "      <td>768678382.0</td>\n",
       "      <td>3668.531</td>\n",
       "      <td>10226205.0</td>\n",
       "      <td>75167.5</td>\n",
       "    </tr>\n",
       "    <tr>\n",
       "      <th>1</th>\n",
       "      <td>India</td>\n",
       "      <td>Asia</td>\n",
       "      <td>348448000.0</td>\n",
       "      <td>260721.000</td>\n",
       "      <td>4950000.0</td>\n",
       "      <td>70393.5</td>\n",
       "    </tr>\n",
       "    <tr>\n",
       "      <th>2</th>\n",
       "      <td>China</td>\n",
       "      <td>Asia</td>\n",
       "      <td>123059739.0</td>\n",
       "      <td>88287.000</td>\n",
       "      <td>1675215.0</td>\n",
       "      <td>73459.1</td>\n",
       "    </tr>\n",
       "    <tr>\n",
       "      <th>3</th>\n",
       "      <td>Thailand</td>\n",
       "      <td>Asia</td>\n",
       "      <td>87468496.0</td>\n",
       "      <td>1264.303</td>\n",
       "      <td>1336575.0</td>\n",
       "      <td>65442.2</td>\n",
       "    </tr>\n",
       "    <tr>\n",
       "      <th>4</th>\n",
       "      <td>Pakistan</td>\n",
       "      <td>Asia</td>\n",
       "      <td>65450704.0</td>\n",
       "      <td>324219.000</td>\n",
       "      <td>1130820.0</td>\n",
       "      <td>57879.0</td>\n",
       "    </tr>\n",
       "  </tbody>\n",
       "</table>\n",
       "</div>"
      ],
      "text/plain": [
       "    Country      Continent  Production(Tons)  Production_per_person(kg)  \\\n",
       "0    Brazil  South America       768678382.0                   3668.531   \n",
       "1     India           Asia       348448000.0                 260721.000   \n",
       "2     China           Asia       123059739.0                  88287.000   \n",
       "3  Thailand           Asia        87468496.0                   1264.303   \n",
       "4  Pakistan           Asia        65450704.0                 324219.000   \n",
       "\n",
       "   Acreage(Hectare)  Yield(Kg/Hectare)  \n",
       "0        10226205.0            75167.5  \n",
       "1         4950000.0            70393.5  \n",
       "2         1675215.0            73459.1  \n",
       "3         1336575.0            65442.2  \n",
       "4         1130820.0            57879.0  "
      ]
     },
     "execution_count": 43,
     "metadata": {},
     "output_type": "execute_result"
    }
   ],
   "source": [
    "df.head()"
   ]
  },
  {
   "cell_type": "code",
   "execution_count": 44,
   "id": "81b94854",
   "metadata": {},
   "outputs": [
    {
     "data": {
      "image/png": "[encoded data removed]",
      "text/plain": [
       "<Figure size 640x480 with 1 Axes>"
      ]
     },
     "metadata": {},
     "output_type": "display_data"
    }
   ],
   "source": [
    "# Similary we can perform the above operation but instead of yield column we will use the production column\n",
    "\n",
    "df_pro = df.sort_values('Production(Tons)', ascending= False)\n",
    "\n",
    "ax = sns.barplot(data = df_pro.head(10), x = 'Country', y = 'Production(Tons)')\n",
    "ax.set_xticklabels(ax.get_xticklabels(), rotation = 90)\n",
    "plt.show()"
   ]
  },
  {
   "cell_type": "markdown",
   "id": "7cca966e",
   "metadata": {},
   "source": [
    "### Correlation "
   ]
  },
  {
   "cell_type": "code",
   "execution_count": 46,
   "id": "192dd381",
   "metadata": {},
   "outputs": [
    {
     "name": "stderr",
     "output_type": "stream",
     "text": [
      "C:\\Users\\userr\\AppData\\Local\\Temp\\ipykernel_16084\\1134722465.py:1: FutureWarning: The default value of numeric_only in DataFrame.corr is deprecated. In a future version, it will default to False. Select only valid columns or specify the value of numeric_only to silence this warning.\n",
      "  df.corr()\n"
     ]
    },
    {
     "data": {
      "text/html": [
       "<div>\n",
       "<style scoped>\n",
       "    .dataframe tbody tr th:only-of-type {\n",
       "        vertical-align: middle;\n",
       "    }\n",
       "\n",
       "    .dataframe tbody tr th {\n",
       "        vertical-align: top;\n",
       "    }\n",
       "\n",
       "    .dataframe thead th {\n",
       "        text-align: right;\n",
       "    }\n",
       "</style>\n",
       "<table border=\"1\" class=\"dataframe\">\n",
       "  <thead>\n",
       "    <tr style=\"text-align: right;\">\n",
       "      <th></th>\n",
       "      <th>Production(Tons)</th>\n",
       "      <th>Production_per_person(kg)</th>\n",
       "      <th>Acreage(Hectare)</th>\n",
       "      <th>Yield(Kg/Hectare)</th>\n",
       "    </tr>\n",
       "  </thead>\n",
       "  <tbody>\n",
       "    <tr>\n",
       "      <th>Production(Tons)</th>\n",
       "      <td>1.000000</td>\n",
       "      <td>0.015000</td>\n",
       "      <td>0.997550</td>\n",
       "      <td>0.132812</td>\n",
       "    </tr>\n",
       "    <tr>\n",
       "      <th>Production_per_person(kg)</th>\n",
       "      <td>0.015000</td>\n",
       "      <td>1.000000</td>\n",
       "      <td>0.012557</td>\n",
       "      <td>0.017999</td>\n",
       "    </tr>\n",
       "    <tr>\n",
       "      <th>Acreage(Hectare)</th>\n",
       "      <td>0.997550</td>\n",
       "      <td>0.012557</td>\n",
       "      <td>1.000000</td>\n",
       "      <td>0.113433</td>\n",
       "    </tr>\n",
       "    <tr>\n",
       "      <th>Yield(Kg/Hectare)</th>\n",
       "      <td>0.132812</td>\n",
       "      <td>0.017999</td>\n",
       "      <td>0.113433</td>\n",
       "      <td>1.000000</td>\n",
       "    </tr>\n",
       "  </tbody>\n",
       "</table>\n",
       "</div>"
      ],
      "text/plain": [
       "                           Production(Tons)  Production_per_person(kg)  \\\n",
       "Production(Tons)                   1.000000                   0.015000   \n",
       "Production_per_person(kg)          0.015000                   1.000000   \n",
       "Acreage(Hectare)                   0.997550                   0.012557   \n",
       "Yield(Kg/Hectare)                  0.132812                   0.017999   \n",
       "\n",
       "                           Acreage(Hectare)  Yield(Kg/Hectare)  \n",
       "Production(Tons)                   0.997550           0.132812  \n",
       "Production_per_person(kg)          0.012557           0.017999  \n",
       "Acreage(Hectare)                   1.000000           0.113433  \n",
       "Yield(Kg/Hectare)                  0.113433           1.000000  "
      ]
     },
     "execution_count": 46,
     "metadata": {},
     "output_type": "execute_result"
    }
   ],
   "source": [
    "df.corr()"
   ]
  },
  {
   "cell_type": "markdown",
   "id": "5c3b65fe",
   "metadata": {},
   "source": [
    "### Do country with the highest land produce more sugarcane ?"
   ]
  },
  {
   "cell_type": "code",
   "execution_count": 51,
   "id": "56d8edb0",
   "metadata": {},
   "outputs": [
    {
     "name": "stderr",
     "output_type": "stream",
     "text": [
      "C:\\Users\\userr\\AppData\\Local\\Temp\\ipykernel_16084\\2139594216.py:3: FutureWarning: The default value of numeric_only in DataFrame.corr is deprecated. In a future version, it will default to False. Select only valid columns or specify the value of numeric_only to silence this warning.\n",
      "  sns.heatmap(df.corr(), annot= True, cmap = 'Greens')\n"
     ]
    },
    {
     "data": {
      "text/plain": [
       "<AxesSubplot: >"
      ]
     },
     "execution_count": 51,
     "metadata": {},
     "output_type": "execute_result"
    },
    {
     "data": {
      "image/png": "[encoded data removed]",
      "text/plain": [
       "<Figure size 640x480 with 2 Axes>"
      ]
     },
     "metadata": {},
     "output_type": "display_data"
    }
   ],
   "source": [
    "# yes we can see it through the heat map like: \n",
    "\n",
    "sns.heatmap(df.corr(), annot= True, cmap = 'Greens')"
   ]
  },
  {
   "cell_type": "code",
   "execution_count": 52,
   "id": "e7980228",
   "metadata": {},
   "outputs": [
    {
     "data": {
      "text/html": [
       "<div>\n",
       "<style scoped>\n",
       "    .dataframe tbody tr th:only-of-type {\n",
       "        vertical-align: middle;\n",
       "    }\n",
       "\n",
       "    .dataframe tbody tr th {\n",
       "        vertical-align: top;\n",
       "    }\n",
       "\n",
       "    .dataframe thead th {\n",
       "        text-align: right;\n",
       "    }\n",
       "</style>\n",
       "<table border=\"1\" class=\"dataframe\">\n",
       "  <thead>\n",
       "    <tr style=\"text-align: right;\">\n",
       "      <th></th>\n",
       "      <th>Country</th>\n",
       "      <th>Continent</th>\n",
       "      <th>Production(Tons)</th>\n",
       "      <th>Production_per_person(kg)</th>\n",
       "      <th>Acreage(Hectare)</th>\n",
       "      <th>Yield(Kg/Hectare)</th>\n",
       "    </tr>\n",
       "  </thead>\n",
       "  <tbody>\n",
       "    <tr>\n",
       "      <th>0</th>\n",
       "      <td>Brazil</td>\n",
       "      <td>South America</td>\n",
       "      <td>768678382.0</td>\n",
       "      <td>3668.531</td>\n",
       "      <td>10226205.0</td>\n",
       "      <td>75167.5</td>\n",
       "    </tr>\n",
       "    <tr>\n",
       "      <th>1</th>\n",
       "      <td>India</td>\n",
       "      <td>Asia</td>\n",
       "      <td>348448000.0</td>\n",
       "      <td>260721.000</td>\n",
       "      <td>4950000.0</td>\n",
       "      <td>70393.5</td>\n",
       "    </tr>\n",
       "    <tr>\n",
       "      <th>2</th>\n",
       "      <td>China</td>\n",
       "      <td>Asia</td>\n",
       "      <td>123059739.0</td>\n",
       "      <td>88287.000</td>\n",
       "      <td>1675215.0</td>\n",
       "      <td>73459.1</td>\n",
       "    </tr>\n",
       "    <tr>\n",
       "      <th>3</th>\n",
       "      <td>Thailand</td>\n",
       "      <td>Asia</td>\n",
       "      <td>87468496.0</td>\n",
       "      <td>1264.303</td>\n",
       "      <td>1336575.0</td>\n",
       "      <td>65442.2</td>\n",
       "    </tr>\n",
       "    <tr>\n",
       "      <th>4</th>\n",
       "      <td>Pakistan</td>\n",
       "      <td>Asia</td>\n",
       "      <td>65450704.0</td>\n",
       "      <td>324219.000</td>\n",
       "      <td>1130820.0</td>\n",
       "      <td>57879.0</td>\n",
       "    </tr>\n",
       "  </tbody>\n",
       "</table>\n",
       "</div>"
      ],
      "text/plain": [
       "    Country      Continent  Production(Tons)  Production_per_person(kg)  \\\n",
       "0    Brazil  South America       768678382.0                   3668.531   \n",
       "1     India           Asia       348448000.0                 260721.000   \n",
       "2     China           Asia       123059739.0                  88287.000   \n",
       "3  Thailand           Asia        87468496.0                   1264.303   \n",
       "4  Pakistan           Asia        65450704.0                 324219.000   \n",
       "\n",
       "   Acreage(Hectare)  Yield(Kg/Hectare)  \n",
       "0        10226205.0            75167.5  \n",
       "1         4950000.0            70393.5  \n",
       "2         1675215.0            73459.1  \n",
       "3         1336575.0            65442.2  \n",
       "4         1130820.0            57879.0  "
      ]
     },
     "execution_count": 52,
     "metadata": {},
     "output_type": "execute_result"
    }
   ],
   "source": [
    "df.head()"
   ]
  },
  {
   "cell_type": "code",
   "execution_count": 53,
   "id": "9c4ee38a",
   "metadata": {},
   "outputs": [
    {
     "data": {
      "text/plain": [
       "<AxesSubplot: xlabel='Acreage(Hectare)', ylabel='Production(Tons)'>"
      ]
     },
     "execution_count": 53,
     "metadata": {},
     "output_type": "execute_result"
    },
    {
     "data": {
      "image/png": "[encoded data removed]",
      "text/plain": [
       "<Figure size 640x480 with 1 Axes>"
      ]
     },
     "metadata": {},
     "output_type": "display_data"
    }
   ],
   "source": [
    "# if we don't have the correlation then Alternatively we can also check it by using the scatter plot\n",
    "\n",
    "sns.scatterplot(data = df, x = 'Acreage(Hectare)', y = 'Production(Tons)')"
   ]
  },
  {
   "cell_type": "markdown",
   "id": "37604614",
   "metadata": {},
   "source": [
    "### Do countries which yield more sugarcane per hectare produces more sugarcane in total"
   ]
  },
  {
   "cell_type": "code",
   "execution_count": 54,
   "id": "6d9100b1",
   "metadata": {},
   "outputs": [
    {
     "data": {
      "text/html": [
       "<div>\n",
       "<style scoped>\n",
       "    .dataframe tbody tr th:only-of-type {\n",
       "        vertical-align: middle;\n",
       "    }\n",
       "\n",
       "    .dataframe tbody tr th {\n",
       "        vertical-align: top;\n",
       "    }\n",
       "\n",
       "    .dataframe thead th {\n",
       "        text-align: right;\n",
       "    }\n",
       "</style>\n",
       "<table border=\"1\" class=\"dataframe\">\n",
       "  <thead>\n",
       "    <tr style=\"text-align: right;\">\n",
       "      <th></th>\n",
       "      <th>Country</th>\n",
       "      <th>Continent</th>\n",
       "      <th>Production(Tons)</th>\n",
       "      <th>Production_per_person(kg)</th>\n",
       "      <th>Acreage(Hectare)</th>\n",
       "      <th>Yield(Kg/Hectare)</th>\n",
       "    </tr>\n",
       "  </thead>\n",
       "  <tbody>\n",
       "    <tr>\n",
       "      <th>0</th>\n",
       "      <td>Brazil</td>\n",
       "      <td>South America</td>\n",
       "      <td>768678382.0</td>\n",
       "      <td>3668.531</td>\n",
       "      <td>10226205.0</td>\n",
       "      <td>75167.5</td>\n",
       "    </tr>\n",
       "    <tr>\n",
       "      <th>1</th>\n",
       "      <td>India</td>\n",
       "      <td>Asia</td>\n",
       "      <td>348448000.0</td>\n",
       "      <td>260721.000</td>\n",
       "      <td>4950000.0</td>\n",
       "      <td>70393.5</td>\n",
       "    </tr>\n",
       "    <tr>\n",
       "      <th>2</th>\n",
       "      <td>China</td>\n",
       "      <td>Asia</td>\n",
       "      <td>123059739.0</td>\n",
       "      <td>88287.000</td>\n",
       "      <td>1675215.0</td>\n",
       "      <td>73459.1</td>\n",
       "    </tr>\n",
       "    <tr>\n",
       "      <th>3</th>\n",
       "      <td>Thailand</td>\n",
       "      <td>Asia</td>\n",
       "      <td>87468496.0</td>\n",
       "      <td>1264.303</td>\n",
       "      <td>1336575.0</td>\n",
       "      <td>65442.2</td>\n",
       "    </tr>\n",
       "    <tr>\n",
       "      <th>4</th>\n",
       "      <td>Pakistan</td>\n",
       "      <td>Asia</td>\n",
       "      <td>65450704.0</td>\n",
       "      <td>324219.000</td>\n",
       "      <td>1130820.0</td>\n",
       "      <td>57879.0</td>\n",
       "    </tr>\n",
       "  </tbody>\n",
       "</table>\n",
       "</div>"
      ],
      "text/plain": [
       "    Country      Continent  Production(Tons)  Production_per_person(kg)  \\\n",
       "0    Brazil  South America       768678382.0                   3668.531   \n",
       "1     India           Asia       348448000.0                 260721.000   \n",
       "2     China           Asia       123059739.0                  88287.000   \n",
       "3  Thailand           Asia        87468496.0                   1264.303   \n",
       "4  Pakistan           Asia        65450704.0                 324219.000   \n",
       "\n",
       "   Acreage(Hectare)  Yield(Kg/Hectare)  \n",
       "0        10226205.0            75167.5  \n",
       "1         4950000.0            70393.5  \n",
       "2         1675215.0            73459.1  \n",
       "3         1336575.0            65442.2  \n",
       "4         1130820.0            57879.0  "
      ]
     },
     "execution_count": 54,
     "metadata": {},
     "output_type": "execute_result"
    }
   ],
   "source": [
    "df.head()"
   ]
  },
  {
   "cell_type": "code",
   "execution_count": 55,
   "id": "d2efb704",
   "metadata": {},
   "outputs": [
    {
     "data": {
      "text/plain": [
       "<AxesSubplot: xlabel='Yield(Kg/Hectare)', ylabel='Production(Tons)'>"
      ]
     },
     "execution_count": 55,
     "metadata": {},
     "output_type": "execute_result"
    },
    {
     "data": {
      "image/png": "[encoded data removed]",
      "text/plain": [
       "<Figure size 640x480 with 1 Axes>"
      ]
     },
     "metadata": {},
     "output_type": "display_data"
    }
   ],
   "source": [
    "# We can use the scatter plot for this purpose \n",
    "\n",
    "sns.scatterplot(data = df, x = 'Yield(Kg/Hectare)', y = 'Production(Tons)')"
   ]
  },
  {
   "cell_type": "markdown",
   "id": "cd9f24b3",
   "metadata": {},
   "source": [
    "## Analysis for Continent"
   ]
  },
  {
   "cell_type": "code",
   "execution_count": 56,
   "id": "ce62c05b",
   "metadata": {},
   "outputs": [
    {
     "data": {
      "text/html": [
       "<div>\n",
       "<style scoped>\n",
       "    .dataframe tbody tr th:only-of-type {\n",
       "        vertical-align: middle;\n",
       "    }\n",
       "\n",
       "    .dataframe tbody tr th {\n",
       "        vertical-align: top;\n",
       "    }\n",
       "\n",
       "    .dataframe thead th {\n",
       "        text-align: right;\n",
       "    }\n",
       "</style>\n",
       "<table border=\"1\" class=\"dataframe\">\n",
       "  <thead>\n",
       "    <tr style=\"text-align: right;\">\n",
       "      <th></th>\n",
       "      <th>Country</th>\n",
       "      <th>Continent</th>\n",
       "      <th>Production(Tons)</th>\n",
       "      <th>Production_per_person(kg)</th>\n",
       "      <th>Acreage(Hectare)</th>\n",
       "      <th>Yield(Kg/Hectare)</th>\n",
       "    </tr>\n",
       "  </thead>\n",
       "  <tbody>\n",
       "    <tr>\n",
       "      <th>0</th>\n",
       "      <td>Brazil</td>\n",
       "      <td>South America</td>\n",
       "      <td>768678382.0</td>\n",
       "      <td>3668.531</td>\n",
       "      <td>10226205.0</td>\n",
       "      <td>75167.5</td>\n",
       "    </tr>\n",
       "    <tr>\n",
       "      <th>1</th>\n",
       "      <td>India</td>\n",
       "      <td>Asia</td>\n",
       "      <td>348448000.0</td>\n",
       "      <td>260721.000</td>\n",
       "      <td>4950000.0</td>\n",
       "      <td>70393.5</td>\n",
       "    </tr>\n",
       "    <tr>\n",
       "      <th>2</th>\n",
       "      <td>China</td>\n",
       "      <td>Asia</td>\n",
       "      <td>123059739.0</td>\n",
       "      <td>88287.000</td>\n",
       "      <td>1675215.0</td>\n",
       "      <td>73459.1</td>\n",
       "    </tr>\n",
       "    <tr>\n",
       "      <th>3</th>\n",
       "      <td>Thailand</td>\n",
       "      <td>Asia</td>\n",
       "      <td>87468496.0</td>\n",
       "      <td>1264.303</td>\n",
       "      <td>1336575.0</td>\n",
       "      <td>65442.2</td>\n",
       "    </tr>\n",
       "    <tr>\n",
       "      <th>4</th>\n",
       "      <td>Pakistan</td>\n",
       "      <td>Asia</td>\n",
       "      <td>65450704.0</td>\n",
       "      <td>324219.000</td>\n",
       "      <td>1130820.0</td>\n",
       "      <td>57879.0</td>\n",
       "    </tr>\n",
       "  </tbody>\n",
       "</table>\n",
       "</div>"
      ],
      "text/plain": [
       "    Country      Continent  Production(Tons)  Production_per_person(kg)  \\\n",
       "0    Brazil  South America       768678382.0                   3668.531   \n",
       "1     India           Asia       348448000.0                 260721.000   \n",
       "2     China           Asia       123059739.0                  88287.000   \n",
       "3  Thailand           Asia        87468496.0                   1264.303   \n",
       "4  Pakistan           Asia        65450704.0                 324219.000   \n",
       "\n",
       "   Acreage(Hectare)  Yield(Kg/Hectare)  \n",
       "0        10226205.0            75167.5  \n",
       "1         4950000.0            70393.5  \n",
       "2         1675215.0            73459.1  \n",
       "3         1336575.0            65442.2  \n",
       "4         1130820.0            57879.0  "
      ]
     },
     "execution_count": 56,
     "metadata": {},
     "output_type": "execute_result"
    }
   ],
   "source": [
    "df.head()"
   ]
  },
  {
   "cell_type": "markdown",
   "id": "a6a1e29f",
   "metadata": {},
   "source": [
    "## Which continent produces maximum sugarcane?"
   ]
  },
  {
   "cell_type": "code",
   "execution_count": 67,
   "id": "28b6b31f",
   "metadata": {},
   "outputs": [
    {
     "name": "stderr",
     "output_type": "stream",
     "text": [
      "C:\\Users\\userr\\AppData\\Local\\Temp\\ipykernel_16084\\44312497.py:1: FutureWarning: The default value of numeric_only in DataFrameGroupBy.sum is deprecated. In a future version, numeric_only will default to False. Either specify numeric_only or select only columns which should be valid for the function.\n",
      "  df_continent = df.groupby('Continent').sum()\n"
     ]
    }
   ],
   "source": [
    "df_continent = df.groupby('Continent').sum()"
   ]
  },
  {
   "cell_type": "code",
   "execution_count": 70,
   "id": "1d2daded",
   "metadata": {},
   "outputs": [
    {
     "data": {
      "text/plain": [
       "<AxesSubplot: xlabel='Continent'>"
      ]
     },
     "execution_count": 70,
     "metadata": {},
     "output_type": "execute_result"
    },
    {
     "data": {
      "image/png": "[encoded data removed]",
      "text/plain": [
       "<Figure size 640x480 with 1 Axes>"
      ]
     },
     "metadata": {},
     "output_type": "display_data"
    }
   ],
   "source": [
    "df_continent['Production(Tons)'].sort_values(ascending= False).plot(kind = 'bar')"
   ]
  },
  {
   "cell_type": "code",
   "execution_count": 71,
   "id": "78cda25d",
   "metadata": {},
   "outputs": [
    {
     "data": {
      "text/plain": [
       "Africa           38\n",
       "Asia             25\n",
       "North America    22\n",
       "South America    11\n",
       "Oceania           4\n",
       "Europe            2\n",
       "Name: Continent, dtype: int64"
      ]
     },
     "execution_count": 71,
     "metadata": {},
     "output_type": "execute_result"
    }
   ],
   "source": [
    "df['Continent'].value_counts()"
   ]
  },
  {
   "cell_type": "code",
   "execution_count": 72,
   "id": "d8d932e8",
   "metadata": {},
   "outputs": [
    {
     "data": {
      "text/plain": [
       "<AxesSubplot: xlabel='Continent'>"
      ]
     },
     "execution_count": 72,
     "metadata": {},
     "output_type": "execute_result"
    },
    {
     "data": {
      "image/png": "[encoded data removed]",
      "text/plain": [
       "<Figure size 640x480 with 1 Axes>"
      ]
     },
     "metadata": {},
     "output_type": "display_data"
    }
   ],
   "source": [
    "df_continent['Acreage(Hectare)'].sort_values(ascending= False).plot(kind = 'bar')"
   ]
  },
  {
   "cell_type": "markdown",
   "id": "0b0c7ac0",
   "metadata": {},
   "source": [
    "### Do number of coutries in a Continent effects production of sugarcane ?"
   ]
  },
  {
   "cell_type": "code",
   "execution_count": 76,
   "id": "cb10cd19",
   "metadata": {},
   "outputs": [
    {
     "data": {
      "text/html": [
       "<div>\n",
       "<style scoped>\n",
       "    .dataframe tbody tr th:only-of-type {\n",
       "        vertical-align: middle;\n",
       "    }\n",
       "\n",
       "    .dataframe tbody tr th {\n",
       "        vertical-align: top;\n",
       "    }\n",
       "\n",
       "    .dataframe thead th {\n",
       "        text-align: right;\n",
       "    }\n",
       "</style>\n",
       "<table border=\"1\" class=\"dataframe\">\n",
       "  <thead>\n",
       "    <tr style=\"text-align: right;\">\n",
       "      <th></th>\n",
       "      <th>Production(Tons)</th>\n",
       "      <th>Production_per_person(kg)</th>\n",
       "      <th>Acreage(Hectare)</th>\n",
       "      <th>Yield(Kg/Hectare)</th>\n",
       "    </tr>\n",
       "    <tr>\n",
       "      <th>Continent</th>\n",
       "      <th></th>\n",
       "      <th></th>\n",
       "      <th></th>\n",
       "      <th></th>\n",
       "    </tr>\n",
       "  </thead>\n",
       "  <tbody>\n",
       "    <tr>\n",
       "      <th>Africa</th>\n",
       "      <td>89681472.0</td>\n",
       "      <td>2332636.293</td>\n",
       "      <td>1439089.0</td>\n",
       "      <td>2142107.5</td>\n",
       "    </tr>\n",
       "    <tr>\n",
       "      <th>Asia</th>\n",
       "      <td>721930425.0</td>\n",
       "      <td>1857769.303</td>\n",
       "      <td>10608319.0</td>\n",
       "      <td>1171871.4</td>\n",
       "    </tr>\n",
       "    <tr>\n",
       "      <th>Europe</th>\n",
       "      <td>5823.0</td>\n",
       "      <td>536.000</td>\n",
       "      <td>71.0</td>\n",
       "      <td>131870.9</td>\n",
       "    </tr>\n",
       "    <tr>\n",
       "      <th>North America</th>\n",
       "      <td>173995947.0</td>\n",
       "      <td>3796081.508</td>\n",
       "      <td>1581983.0</td>\n",
       "      <td>1082602.4</td>\n",
       "    </tr>\n",
       "    <tr>\n",
       "      <th>Oceania</th>\n",
       "      <td>36177574.0</td>\n",
       "      <td>28593.605</td>\n",
       "      <td>490909.0</td>\n",
       "      <td>162419.1</td>\n",
       "    </tr>\n",
       "    <tr>\n",
       "      <th>South America</th>\n",
       "      <td>865588126.0</td>\n",
       "      <td>3505531.738</td>\n",
       "      <td>11369236.0</td>\n",
       "      <td>677192.7</td>\n",
       "    </tr>\n",
       "  </tbody>\n",
       "</table>\n",
       "</div>"
      ],
      "text/plain": [
       "               Production(Tons)  Production_per_person(kg)  Acreage(Hectare)  \\\n",
       "Continent                                                                      \n",
       "Africa               89681472.0                2332636.293         1439089.0   \n",
       "Asia                721930425.0                1857769.303        10608319.0   \n",
       "Europe                   5823.0                    536.000              71.0   \n",
       "North America       173995947.0                3796081.508         1581983.0   \n",
       "Oceania              36177574.0                  28593.605          490909.0   \n",
       "South America       865588126.0                3505531.738        11369236.0   \n",
       "\n",
       "               Yield(Kg/Hectare)  \n",
       "Continent                         \n",
       "Africa                 2142107.5  \n",
       "Asia                   1171871.4  \n",
       "Europe                  131870.9  \n",
       "North America          1082602.4  \n",
       "Oceania                 162419.1  \n",
       "South America           677192.7  "
      ]
     },
     "execution_count": 76,
     "metadata": {},
     "output_type": "execute_result"
    }
   ],
   "source": [
    "df_continent"
   ]
  },
  {
   "cell_type": "code",
   "execution_count": 77,
   "id": "57b6734d",
   "metadata": {},
   "outputs": [],
   "source": [
    "df_continent['No_of_countries'] = df.groupby('Continent').count()['Country']"
   ]
  },
  {
   "cell_type": "code",
   "execution_count": 78,
   "id": "913336f0",
   "metadata": {},
   "outputs": [
    {
     "data": {
      "text/html": [
       "<div>\n",
       "<style scoped>\n",
       "    .dataframe tbody tr th:only-of-type {\n",
       "        vertical-align: middle;\n",
       "    }\n",
       "\n",
       "    .dataframe tbody tr th {\n",
       "        vertical-align: top;\n",
       "    }\n",
       "\n",
       "    .dataframe thead th {\n",
       "        text-align: right;\n",
       "    }\n",
       "</style>\n",
       "<table border=\"1\" class=\"dataframe\">\n",
       "  <thead>\n",
       "    <tr style=\"text-align: right;\">\n",
       "      <th></th>\n",
       "      <th>Production(Tons)</th>\n",
       "      <th>Production_per_person(kg)</th>\n",
       "      <th>Acreage(Hectare)</th>\n",
       "      <th>Yield(Kg/Hectare)</th>\n",
       "      <th>No_of_countries</th>\n",
       "    </tr>\n",
       "    <tr>\n",
       "      <th>Continent</th>\n",
       "      <th></th>\n",
       "      <th></th>\n",
       "      <th></th>\n",
       "      <th></th>\n",
       "      <th></th>\n",
       "    </tr>\n",
       "  </thead>\n",
       "  <tbody>\n",
       "    <tr>\n",
       "      <th>Africa</th>\n",
       "      <td>89681472.0</td>\n",
       "      <td>2332636.293</td>\n",
       "      <td>1439089.0</td>\n",
       "      <td>2142107.5</td>\n",
       "      <td>38</td>\n",
       "    </tr>\n",
       "    <tr>\n",
       "      <th>Asia</th>\n",
       "      <td>721930425.0</td>\n",
       "      <td>1857769.303</td>\n",
       "      <td>10608319.0</td>\n",
       "      <td>1171871.4</td>\n",
       "      <td>25</td>\n",
       "    </tr>\n",
       "    <tr>\n",
       "      <th>Europe</th>\n",
       "      <td>5823.0</td>\n",
       "      <td>536.000</td>\n",
       "      <td>71.0</td>\n",
       "      <td>131870.9</td>\n",
       "      <td>2</td>\n",
       "    </tr>\n",
       "    <tr>\n",
       "      <th>North America</th>\n",
       "      <td>173995947.0</td>\n",
       "      <td>3796081.508</td>\n",
       "      <td>1581983.0</td>\n",
       "      <td>1082602.4</td>\n",
       "      <td>22</td>\n",
       "    </tr>\n",
       "    <tr>\n",
       "      <th>Oceania</th>\n",
       "      <td>36177574.0</td>\n",
       "      <td>28593.605</td>\n",
       "      <td>490909.0</td>\n",
       "      <td>162419.1</td>\n",
       "      <td>4</td>\n",
       "    </tr>\n",
       "    <tr>\n",
       "      <th>South America</th>\n",
       "      <td>865588126.0</td>\n",
       "      <td>3505531.738</td>\n",
       "      <td>11369236.0</td>\n",
       "      <td>677192.7</td>\n",
       "      <td>11</td>\n",
       "    </tr>\n",
       "  </tbody>\n",
       "</table>\n",
       "</div>"
      ],
      "text/plain": [
       "               Production(Tons)  Production_per_person(kg)  Acreage(Hectare)  \\\n",
       "Continent                                                                      \n",
       "Africa               89681472.0                2332636.293         1439089.0   \n",
       "Asia                721930425.0                1857769.303        10608319.0   \n",
       "Europe                   5823.0                    536.000              71.0   \n",
       "North America       173995947.0                3796081.508         1581983.0   \n",
       "Oceania              36177574.0                  28593.605          490909.0   \n",
       "South America       865588126.0                3505531.738        11369236.0   \n",
       "\n",
       "               Yield(Kg/Hectare)  No_of_countries  \n",
       "Continent                                          \n",
       "Africa                 2142107.5               38  \n",
       "Asia                   1171871.4               25  \n",
       "Europe                  131870.9                2  \n",
       "North America          1082602.4               22  \n",
       "Oceania                 162419.1                4  \n",
       "South America           677192.7               11  "
      ]
     },
     "execution_count": 78,
     "metadata": {},
     "output_type": "execute_result"
    }
   ],
   "source": [
    "df_continent"
   ]
  },
  {
   "cell_type": "code",
   "execution_count": 83,
   "id": "9df8e090",
   "metadata": {},
   "outputs": [
    {
     "data": {
      "image/png": "[encoded data removed]",
      "text/plain": [
       "<Figure size 640x480 with 1 Axes>"
      ]
     },
     "metadata": {},
     "output_type": "display_data"
    }
   ],
   "source": [
    "continent_names = df_continent.index.to_list()\n",
    "sns.lineplot(data = df_continent, x = 'No_of_countries', y = 'Production(Tons)')\n",
    "plt.xticks(df_continent['No_of_countries'], continent_names, rotation = 90)\n",
    "plt.show()"
   ]
  },
  {
   "cell_type": "markdown",
   "id": "c23fcd6c",
   "metadata": {},
   "source": [
    "### Do continent with highest land produces more sugarcane ? "
   ]
  },
  {
   "cell_type": "code",
   "execution_count": 84,
   "id": "19ac5081",
   "metadata": {},
   "outputs": [
    {
     "data": {
      "text/html": [
       "<div>\n",
       "<style scoped>\n",
       "    .dataframe tbody tr th:only-of-type {\n",
       "        vertical-align: middle;\n",
       "    }\n",
       "\n",
       "    .dataframe tbody tr th {\n",
       "        vertical-align: top;\n",
       "    }\n",
       "\n",
       "    .dataframe thead th {\n",
       "        text-align: right;\n",
       "    }\n",
       "</style>\n",
       "<table border=\"1\" class=\"dataframe\">\n",
       "  <thead>\n",
       "    <tr style=\"text-align: right;\">\n",
       "      <th></th>\n",
       "      <th>Production(Tons)</th>\n",
       "      <th>Production_per_person(kg)</th>\n",
       "      <th>Acreage(Hectare)</th>\n",
       "      <th>Yield(Kg/Hectare)</th>\n",
       "      <th>No_of_countries</th>\n",
       "    </tr>\n",
       "    <tr>\n",
       "      <th>Continent</th>\n",
       "      <th></th>\n",
       "      <th></th>\n",
       "      <th></th>\n",
       "      <th></th>\n",
       "      <th></th>\n",
       "    </tr>\n",
       "  </thead>\n",
       "  <tbody>\n",
       "    <tr>\n",
       "      <th>Africa</th>\n",
       "      <td>89681472.0</td>\n",
       "      <td>2332636.293</td>\n",
       "      <td>1439089.0</td>\n",
       "      <td>2142107.5</td>\n",
       "      <td>38</td>\n",
       "    </tr>\n",
       "    <tr>\n",
       "      <th>Asia</th>\n",
       "      <td>721930425.0</td>\n",
       "      <td>1857769.303</td>\n",
       "      <td>10608319.0</td>\n",
       "      <td>1171871.4</td>\n",
       "      <td>25</td>\n",
       "    </tr>\n",
       "    <tr>\n",
       "      <th>Europe</th>\n",
       "      <td>5823.0</td>\n",
       "      <td>536.000</td>\n",
       "      <td>71.0</td>\n",
       "      <td>131870.9</td>\n",
       "      <td>2</td>\n",
       "    </tr>\n",
       "    <tr>\n",
       "      <th>North America</th>\n",
       "      <td>173995947.0</td>\n",
       "      <td>3796081.508</td>\n",
       "      <td>1581983.0</td>\n",
       "      <td>1082602.4</td>\n",
       "      <td>22</td>\n",
       "    </tr>\n",
       "    <tr>\n",
       "      <th>Oceania</th>\n",
       "      <td>36177574.0</td>\n",
       "      <td>28593.605</td>\n",
       "      <td>490909.0</td>\n",
       "      <td>162419.1</td>\n",
       "      <td>4</td>\n",
       "    </tr>\n",
       "    <tr>\n",
       "      <th>South America</th>\n",
       "      <td>865588126.0</td>\n",
       "      <td>3505531.738</td>\n",
       "      <td>11369236.0</td>\n",
       "      <td>677192.7</td>\n",
       "      <td>11</td>\n",
       "    </tr>\n",
       "  </tbody>\n",
       "</table>\n",
       "</div>"
      ],
      "text/plain": [
       "               Production(Tons)  Production_per_person(kg)  Acreage(Hectare)  \\\n",
       "Continent                                                                      \n",
       "Africa               89681472.0                2332636.293         1439089.0   \n",
       "Asia                721930425.0                1857769.303        10608319.0   \n",
       "Europe                   5823.0                    536.000              71.0   \n",
       "North America       173995947.0                3796081.508         1581983.0   \n",
       "Oceania              36177574.0                  28593.605          490909.0   \n",
       "South America       865588126.0                3505531.738        11369236.0   \n",
       "\n",
       "               Yield(Kg/Hectare)  No_of_countries  \n",
       "Continent                                          \n",
       "Africa                 2142107.5               38  \n",
       "Asia                   1171871.4               25  \n",
       "Europe                  131870.9                2  \n",
       "North America          1082602.4               22  \n",
       "Oceania                 162419.1                4  \n",
       "South America           677192.7               11  "
      ]
     },
     "execution_count": 84,
     "metadata": {},
     "output_type": "execute_result"
    }
   ],
   "source": [
    "df_continent"
   ]
  },
  {
   "cell_type": "code",
   "execution_count": 86,
   "id": "ee76b27c",
   "metadata": {},
   "outputs": [
    {
     "data": {
      "image/png": "[encoded data removed]",
      "text/plain": [
       "<Figure size 640x480 with 1 Axes>"
      ]
     },
     "metadata": {},
     "output_type": "display_data"
    }
   ],
   "source": [
    "sns.lineplot(data = df_continent, x = 'Acreage(Hectare)', y = 'Production(Tons)')\n",
    "plt.show()"
   ]
  },
  {
   "cell_type": "markdown",
   "id": "e6dd442c",
   "metadata": {},
   "source": [
    "### Production distribution by continent"
   ]
  },
  {
   "cell_type": "code",
   "execution_count": 88,
   "id": "7ccd9882",
   "metadata": {},
   "outputs": [
    {
     "data": {
      "text/html": [
       "<div>\n",
       "<style scoped>\n",
       "    .dataframe tbody tr th:only-of-type {\n",
       "        vertical-align: middle;\n",
       "    }\n",
       "\n",
       "    .dataframe tbody tr th {\n",
       "        vertical-align: top;\n",
       "    }\n",
       "\n",
       "    .dataframe thead th {\n",
       "        text-align: right;\n",
       "    }\n",
       "</style>\n",
       "<table border=\"1\" class=\"dataframe\">\n",
       "  <thead>\n",
       "    <tr style=\"text-align: right;\">\n",
       "      <th></th>\n",
       "      <th>Production(Tons)</th>\n",
       "      <th>Production_per_person(kg)</th>\n",
       "      <th>Acreage(Hectare)</th>\n",
       "      <th>Yield(Kg/Hectare)</th>\n",
       "      <th>No_of_countries</th>\n",
       "    </tr>\n",
       "    <tr>\n",
       "      <th>Continent</th>\n",
       "      <th></th>\n",
       "      <th></th>\n",
       "      <th></th>\n",
       "      <th></th>\n",
       "      <th></th>\n",
       "    </tr>\n",
       "  </thead>\n",
       "  <tbody>\n",
       "    <tr>\n",
       "      <th>Africa</th>\n",
       "      <td>89681472.0</td>\n",
       "      <td>2332636.293</td>\n",
       "      <td>1439089.0</td>\n",
       "      <td>2142107.5</td>\n",
       "      <td>38</td>\n",
       "    </tr>\n",
       "    <tr>\n",
       "      <th>Asia</th>\n",
       "      <td>721930425.0</td>\n",
       "      <td>1857769.303</td>\n",
       "      <td>10608319.0</td>\n",
       "      <td>1171871.4</td>\n",
       "      <td>25</td>\n",
       "    </tr>\n",
       "    <tr>\n",
       "      <th>Europe</th>\n",
       "      <td>5823.0</td>\n",
       "      <td>536.000</td>\n",
       "      <td>71.0</td>\n",
       "      <td>131870.9</td>\n",
       "      <td>2</td>\n",
       "    </tr>\n",
       "    <tr>\n",
       "      <th>North America</th>\n",
       "      <td>173995947.0</td>\n",
       "      <td>3796081.508</td>\n",
       "      <td>1581983.0</td>\n",
       "      <td>1082602.4</td>\n",
       "      <td>22</td>\n",
       "    </tr>\n",
       "    <tr>\n",
       "      <th>Oceania</th>\n",
       "      <td>36177574.0</td>\n",
       "      <td>28593.605</td>\n",
       "      <td>490909.0</td>\n",
       "      <td>162419.1</td>\n",
       "      <td>4</td>\n",
       "    </tr>\n",
       "    <tr>\n",
       "      <th>South America</th>\n",
       "      <td>865588126.0</td>\n",
       "      <td>3505531.738</td>\n",
       "      <td>11369236.0</td>\n",
       "      <td>677192.7</td>\n",
       "      <td>11</td>\n",
       "    </tr>\n",
       "  </tbody>\n",
       "</table>\n",
       "</div>"
      ],
      "text/plain": [
       "               Production(Tons)  Production_per_person(kg)  Acreage(Hectare)  \\\n",
       "Continent                                                                      \n",
       "Africa               89681472.0                2332636.293         1439089.0   \n",
       "Asia                721930425.0                1857769.303        10608319.0   \n",
       "Europe                   5823.0                    536.000              71.0   \n",
       "North America       173995947.0                3796081.508         1581983.0   \n",
       "Oceania              36177574.0                  28593.605          490909.0   \n",
       "South America       865588126.0                3505531.738        11369236.0   \n",
       "\n",
       "               Yield(Kg/Hectare)  No_of_countries  \n",
       "Continent                                          \n",
       "Africa                 2142107.5               38  \n",
       "Asia                   1171871.4               25  \n",
       "Europe                  131870.9                2  \n",
       "North America          1082602.4               22  \n",
       "Oceania                 162419.1                4  \n",
       "South America           677192.7               11  "
      ]
     },
     "execution_count": 88,
     "metadata": {},
     "output_type": "execute_result"
    }
   ],
   "source": [
    "df_continent"
   ]
  },
  {
   "cell_type": "code",
   "execution_count": 89,
   "id": "d3e0c497",
   "metadata": {},
   "outputs": [
    {
     "data": {
      "text/plain": [
       "<AxesSubplot: ylabel='Production(Tons)'>"
      ]
     },
     "execution_count": 89,
     "metadata": {},
     "output_type": "execute_result"
    },
    {
     "data": {
      "image/png": "[encoded data removed]",
      "text/plain": [
       "<Figure size 640x480 with 1 Axes>"
      ]
     },
     "metadata": {},
     "output_type": "display_data"
    }
   ],
   "source": [
    "df_continent['Production(Tons)'].plot(kind = 'pie', autopct = '%.2f')"
   ]
  },
  {
   "cell_type": "markdown",
   "id": "7d1976e8",
   "metadata": {},
   "source": [
    "### Correlation for continent"
   ]
  },
  {
   "cell_type": "code",
   "execution_count": 87,
   "id": "d31adcf0",
   "metadata": {},
   "outputs": [
    {
     "data": {
      "text/html": [
       "<div>\n",
       "<style scoped>\n",
       "    .dataframe tbody tr th:only-of-type {\n",
       "        vertical-align: middle;\n",
       "    }\n",
       "\n",
       "    .dataframe tbody tr th {\n",
       "        vertical-align: top;\n",
       "    }\n",
       "\n",
       "    .dataframe thead th {\n",
       "        text-align: right;\n",
       "    }\n",
       "</style>\n",
       "<table border=\"1\" class=\"dataframe\">\n",
       "  <thead>\n",
       "    <tr style=\"text-align: right;\">\n",
       "      <th></th>\n",
       "      <th>Production(Tons)</th>\n",
       "      <th>Production_per_person(kg)</th>\n",
       "      <th>Acreage(Hectare)</th>\n",
       "      <th>Yield(Kg/Hectare)</th>\n",
       "      <th>No_of_countries</th>\n",
       "    </tr>\n",
       "  </thead>\n",
       "  <tbody>\n",
       "    <tr>\n",
       "      <th>Production(Tons)</th>\n",
       "      <td>1.000000</td>\n",
       "      <td>0.522211</td>\n",
       "      <td>0.994897</td>\n",
       "      <td>0.091201</td>\n",
       "      <td>0.109244</td>\n",
       "    </tr>\n",
       "    <tr>\n",
       "      <th>Production_per_person(kg)</th>\n",
       "      <td>0.522211</td>\n",
       "      <td>1.000000</td>\n",
       "      <td>0.463215</td>\n",
       "      <td>0.542961</td>\n",
       "      <td>0.540086</td>\n",
       "    </tr>\n",
       "    <tr>\n",
       "      <th>Acreage(Hectare)</th>\n",
       "      <td>0.994897</td>\n",
       "      <td>0.463215</td>\n",
       "      <td>1.000000</td>\n",
       "      <td>0.111166</td>\n",
       "      <td>0.132817</td>\n",
       "    </tr>\n",
       "    <tr>\n",
       "      <th>Yield(Kg/Hectare)</th>\n",
       "      <td>0.091201</td>\n",
       "      <td>0.542961</td>\n",
       "      <td>0.111166</td>\n",
       "      <td>1.000000</td>\n",
       "      <td>0.989712</td>\n",
       "    </tr>\n",
       "    <tr>\n",
       "      <th>No_of_countries</th>\n",
       "      <td>0.109244</td>\n",
       "      <td>0.540086</td>\n",
       "      <td>0.132817</td>\n",
       "      <td>0.989712</td>\n",
       "      <td>1.000000</td>\n",
       "    </tr>\n",
       "  </tbody>\n",
       "</table>\n",
       "</div>"
      ],
      "text/plain": [
       "                           Production(Tons)  Production_per_person(kg)  \\\n",
       "Production(Tons)                   1.000000                   0.522211   \n",
       "Production_per_person(kg)          0.522211                   1.000000   \n",
       "Acreage(Hectare)                   0.994897                   0.463215   \n",
       "Yield(Kg/Hectare)                  0.091201                   0.542961   \n",
       "No_of_countries                    0.109244                   0.540086   \n",
       "\n",
       "                           Acreage(Hectare)  Yield(Kg/Hectare)  \\\n",
       "Production(Tons)                   0.994897           0.091201   \n",
       "Production_per_person(kg)          0.463215           0.542961   \n",
       "Acreage(Hectare)                   1.000000           0.111166   \n",
       "Yield(Kg/Hectare)                  0.111166           1.000000   \n",
       "No_of_countries                    0.132817           0.989712   \n",
       "\n",
       "                           No_of_countries  \n",
       "Production(Tons)                  0.109244  \n",
       "Production_per_person(kg)         0.540086  \n",
       "Acreage(Hectare)                  0.132817  \n",
       "Yield(Kg/Hectare)                 0.989712  \n",
       "No_of_countries                   1.000000  "
      ]
     },
     "execution_count": 87,
     "metadata": {},
     "output_type": "execute_result"
    }
   ],
   "source": [
    "df_continent.corr()"
   ]
  }
 ],
 "metadata": {
  "kernelspec": {
   "display_name": "Python 3 (ipykernel)",
   "language": "python",
   "name": "python3"
  },
  "language_info": {
   "codemirror_mode": {
    "name": "ipython",
    "version": 3
   },
   "file_extension": ".py",
   "mimetype": "text/x-python",
   "name": "python",
   "nbconvert_exporter": "python",
   "pygments_lexer": "ipython3",
   "version": "3.9.18"
  }
 },
 "nbformat": 4,
 "nbformat_minor": 5
}
